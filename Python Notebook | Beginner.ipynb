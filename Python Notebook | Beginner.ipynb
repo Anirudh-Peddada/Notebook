{
 "cells": [
  {
   "cell_type": "markdown",
   "metadata": {
    "ExecuteTime": {
     "end_time": "2018-09-28T13:31:50.617249Z",
     "start_time": "2018-09-28T13:31:50.611556Z"
    }
   },
   "source": [
    "<h1 style=\"font-size: 20pt\">Python Notebook | Beginner</h1><br/>\n",
    "\n",
    "<b> Author: </b> Tamoghna Saha<br/> \n",
    "<b> Created: </b> October 2018<br/>\n",
    "\n",
    "![Python](/Photos/python_beginner.png)"
   ]
  },
  {
   "cell_type": "markdown",
   "metadata": {},
   "source": [
    "# Table of Content:\n",
    "* [Know about Python](#intro)\n",
    "* [Numerical and Boolean Operations](#num_bool)\n",
    "* [Variable and Object](#var_obj)\n",
    "* [Data Type and Type Conversion](#data_type_conversion)\n",
    "* [Importing Python Modules and standard libraries](#modules)\n",
    "* [Python Built-in Functions and keywords](#builtins)\n",
    "* [String operations and formatting](#string_ops)\n",
    "* [Useful Pythonic Functions](#pythonic_func)\n",
    "* [User-Defined Function](#udf)\n",
    "* [Scope of a Variable](#scope)\n",
    "* [Answers](#answers)\n",
    "* [Additional Read](#additional_read)"
   ]
  },
  {
   "cell_type": "markdown",
   "metadata": {},
   "source": [
    "## What is Python? <a name = \"intro\"></a>\n",
    "\n",
    "![what-is-python](https://github.com/Tamoghna-Saha/Notebook/blob/master/Photos/PYTHON-DEFINITION.png)\n",
    "\n",
    "It is a general-purpose, high-level, interpreted, dynamic scripting language.\n",
    "\n",
    "* **General-Purpose** -> designed to be used for writing software in the widest variety of application domains\n",
    "* **High-level** -> designed to be more or less independent of a particular type of computer, human-readable friendly\n",
    "* **Interpreted** -> designed to execute instructions of a program directly, without previously compiling a program into machine-language instructions\n",
    "* **Scripting** -> languages which are interpreted rather than compiled\n",
    "\n",
    "### But, what is the difference between an interpreter and a compiler? [Answer](#answer1)\n",
    "<a name=\"back1\"></a>"
   ]
  },
  {
   "cell_type": "markdown",
   "metadata": {},
   "source": [
    "## Currently, there are two versions of Python\n",
    "\n",
    "<img src=\"https://github.com/Tamoghna-Saha/Notebook/blob/master/Photos/Python-logo.png\" width=\"640\">"
   ]
  },
  {
   "cell_type": "markdown",
   "metadata": {},
   "source": [
    "## Why do we need Python?\n",
    "\n",
    "![why_python](https://github.com/Tamoghna-Saha/Notebook/blob/master/Photos/Why_Python.jpg)\n",
    "\n",
    "* **Simple syntax, readable, reusable and maintainable code**\n",
    "* **Multiple Programming Paradigms** such as Object-oriented, structured, functional Paradigms and feature of automatic memory management\n",
    "* **Compatible** with Major Platforms and Systems, many **open-source framework available** which boosts developer's productivity\n",
    "* **Robust Standard Library** and supporting wide range of external libraries\n",
    "* Easier to perform coding and testing simultaneously by adopting **test driven development (TDD)** approach"
   ]
  },
  {
   "cell_type": "markdown",
   "metadata": {},
   "source": [
    "## That's okay. But where do I use it?\n",
    "\n",
    "![application](https://github.com/Tamoghna-Saha/Notebook/blob/master/Photos/application.jpg)\n",
    "\n",
    "* **Desktop-based Applications**\n",
    "    + Image, Video, Audio Processing (using modules like **OpenCV** and **PyAudio** or **librosa**)\n",
    "    + Graphic Design Applications (used to create **Inkscape, GIMP, Blender, 3ds Max** softwares)\n",
    "    + Games (**PySoy** -> 3D game engine, **PyGame** -> library for game development)\n",
    "* **Scientific and Computational Applications**\n",
    "    + Machine Learning (Regression, Decision Tree, Random Forest, Deep Learning) using libraries such as **NumPy**, **SciPy**, **TensorFlow**, **Keras**, **PyTorch**\n",
    "* **Operating Systems**\n",
    "    + **Ubuntu’s Ubiquity Installer, Fedora's Anaconda Installer** are written in Python\n",
    "* **Language Development**\n",
    "    + Boo, Apple's Swift, Cobra\n",
    "* **Web Development**\n",
    "    + Framework such as **Django, Pyramid**\n",
    "    + Micro-Framework such as **Flask, Bottle**\n",
    "* **Internet Protocol**\n",
    "    + HTML, XML\n",
    "    + JSON\n",
    "    + Requests\n",
    "    + BeautifulSoup\n",
    "* **Prototyping**"
   ]
  },
  {
   "cell_type": "markdown",
   "metadata": {},
   "source": [
    "## Who uses Python anyway?\n",
    "\n",
    "![python_use](https://github.com/Tamoghna-Saha/Notebook/blob/master/Photos/who_uses_python.png)"
   ]
  },
  {
   "cell_type": "markdown",
   "metadata": {},
   "source": [
    "### Cool. I guess we are good to go!\n",
    "\n",
    "### If your ground is muddy, can you build your dream house? So, let's make the basics STRONG!"
   ]
  },
  {
   "cell_type": "code",
   "execution_count": 1,
   "metadata": {
    "ExecuteTime": {
     "end_time": "2018-11-06T07:19:48.762925Z",
     "start_time": "2018-11-06T07:19:48.658969Z"
    }
   },
   "outputs": [
    {
     "name": "stdout",
     "output_type": "stream",
     "text": [
      "Hello World\n"
     ]
    }
   ],
   "source": [
    "# This is how you comment a code in Python!\n",
    "\n",
    "## Let's start with the famous code.\n",
    "\n",
    "print('Hello World')"
   ]
  },
  {
   "cell_type": "code",
   "execution_count": 2,
   "metadata": {
    "ExecuteTime": {
     "end_time": "2018-11-06T07:19:50.979157Z",
     "start_time": "2018-11-06T07:19:50.870299Z"
    }
   },
   "outputs": [
    {
     "name": "stdout",
     "output_type": "stream",
     "text": [
      "The Zen of Python, by Tim Peters\n",
      "\n",
      "Beautiful is better than ugly.\n",
      "Explicit is better than implicit.\n",
      "Simple is better than complex.\n",
      "Complex is better than complicated.\n",
      "Flat is better than nested.\n",
      "Sparse is better than dense.\n",
      "Readability counts.\n",
      "Special cases aren't special enough to break the rules.\n",
      "Although practicality beats purity.\n",
      "Errors should never pass silently.\n",
      "Unless explicitly silenced.\n",
      "In the face of ambiguity, refuse the temptation to guess.\n",
      "There should be one-- and preferably only one --obvious way to do it.\n",
      "Although that way may not be obvious at first unless you're Dutch.\n",
      "Now is better than never.\n",
      "Although never is often better than *right* now.\n",
      "If the implementation is hard to explain, it's a bad idea.\n",
      "If the implementation is easy to explain, it may be a good idea.\n",
      "Namespaces are one honking great idea -- let's do more of those!\n"
     ]
    }
   ],
   "source": [
    "# a collection of 20 software principles that influences the design of Python Programming Language, of which 19 were written down\n",
    "import this"
   ]
  },
  {
   "cell_type": "markdown",
   "metadata": {},
   "source": [
    "# Numerical and Boolean Operations <a name = \"num_bool\"></a>"
   ]
  },
  {
   "cell_type": "code",
   "execution_count": 3,
   "metadata": {
    "ExecuteTime": {
     "end_time": "2018-11-06T07:19:57.137611Z",
     "start_time": "2018-11-06T07:19:57.125698Z"
    }
   },
   "outputs": [
    {
     "name": "stdout",
     "output_type": "stream",
     "text": [
      "6.25\n",
      "6\n",
      "1\n",
      "9\n",
      "python3\n"
     ]
    }
   ],
   "source": [
    "## some basic mathematical operations , I am not showing. You do it. But see this.\n",
    "\n",
    "print(25/4) # floating point division\n",
    "\n",
    "## to determine quotient and remainder\n",
    "print(25//4) # floor division\n",
    "print(25%4) # modulo operator\n",
    "\n",
    "x = 3\n",
    "x *= 3 # in-place operator\n",
    "print(x)\n",
    "\n",
    "y = \"python\"\n",
    "y += \"3\"\n",
    "print(y)"
   ]
  },
  {
   "cell_type": "markdown",
   "metadata": {},
   "source": [
    "**The tricky part for the above is this - <span class=\"mark\">in Python 2.7.X, it will return the base integer (6 in this case) in both floating point and floor division</span>**. So even if you are using Python 2.7.X, you can do this:\n",
    "\n",
    "```\n",
    "from __future__ import division\n",
    "```\n",
    "which causes Python 2.7.X to adopt the behavior of 3.7.X!\n",
    "\n",
    "But what is this __from__ stuff?\n",
    "\n",
    "We will look into it. But lets cover **Boolean operations**."
   ]
  },
  {
   "cell_type": "code",
   "execution_count": 4,
   "metadata": {
    "ExecuteTime": {
     "end_time": "2018-11-06T07:19:58.825546Z",
     "start_time": "2018-11-06T07:19:58.816637Z"
    },
    "scrolled": false
   },
   "outputs": [
    {
     "name": "stdout",
     "output_type": "stream",
     "text": [
      "Easy ones!\n",
      "---------\n",
      "False\n",
      "True\n",
      "True\n",
      "True\n",
      "---------\n",
      "Tricky ones!\n",
      "---------\n",
      "False\n",
      "False\n",
      "False\n",
      "---------\n",
      "Here's why!\n",
      "---------\n",
      "0.30000000000000004\n",
      "0.3\n",
      "0.4\n",
      "0.4\n",
      "0.6000000000000001\n",
      "0.6\n",
      "0.8\n",
      "0.15000000000000002\n",
      "0.07500000000000001\n"
     ]
    }
   ],
   "source": [
    "from __future__ import division\n",
    "print(\"Easy ones!\\n---------\")\n",
    "print(2 == 3)\n",
    "print(6 != 7)\n",
    "print(9 is not \"nine\")\n",
    "print(5 > 3)\n",
    "print(\"---------\")\n",
    "print(\"Tricky ones!\\n---------\")\n",
    "print(6 < 6.0)\n",
    "print((3 * 0.1) == 0.3)\n",
    "print((3 * 0.1) == (3/10))\n",
    "print(\"---------\")\n",
    "print(\"Here's why!\\n---------\")\n",
    "print(3 * 0.1)\n",
    "print(3/10)\n",
    "print(4 * 0.1)\n",
    "print(4/10)\n",
    "print(6 * 0.1)\n",
    "print(6/10)\n",
    "print(8 * 0.1)\n",
    "print(1.5 * 0.1)\n",
    "print(0.75 * 0.1)"
   ]
  },
  {
   "cell_type": "markdown",
   "metadata": {},
   "source": [
    "# Variables and Objects <a name=\"var_obj\"></a>\n",
    "\n",
    "* Variables do not have a defined type at compile time.\n",
    "* Variables can reference any type of object!\n",
    "* The variable type can change in run-time.\n",
    "\n",
    "Type checking is performed at run-time -> hence __dynamic languages are slower than static languages__\n",
    "\n",
    "__Everything in Python is an Object!__\n",
    "\n",
    "object is the base type for every Python Object. Objects can be:\n",
    "* __Mutable__: value can be changed. [list, set, dictionaries]\n",
    "* __Immutable__: value is unchangeable. [number, string, frozenset, tuple]\n",
    "\n",
    "Object mutability is defined by its __type__.\n",
    "\n",
    "__Objects Are Never Explicitly Destroyed!__ Allocation and deletion is done by the interpreter.\n",
    "\n",
    "The most commonly used methods of constructing a multi-word variable name are the last three examples:\n",
    "\n",
    "* **Camel Case**: Second and subsequent words are capitalized, to make word boundaries easier to see.\n",
    "    + Example: numberOfCollegeGraduates\n",
    "* **Pascal Case**: Identical to Camel Case, except the first word is also capitalized.\n",
    "    + Example: NumberOfCollegeGraduates\n",
    "* **Snake Case**: Words are separated by underscores.\n",
    "    + Example: number_of_college_graduates"
   ]
  },
  {
   "cell_type": "code",
   "execution_count": 5,
   "metadata": {
    "ExecuteTime": {
     "end_time": "2018-11-06T07:20:01.596581Z",
     "start_time": "2018-11-06T07:20:01.592093Z"
    }
   },
   "outputs": [],
   "source": [
    "# the correct ways to declare variables \n",
    "x = 123 # this is right\n",
    "\n",
    "my_variable = \"is my variable, None of your variable\" # even this is right"
   ]
  },
  {
   "cell_type": "code",
   "execution_count": 6,
   "metadata": {
    "ExecuteTime": {
     "end_time": "2018-11-06T07:20:03.030454Z",
     "start_time": "2018-11-06T07:20:03.022806Z"
    }
   },
   "outputs": [
    {
     "ename": "SyntaxError",
     "evalue": "invalid token (<ipython-input-6-1f6450c77ef5>, line 2)",
     "output_type": "error",
     "traceback": [
      "\u001b[0;36m  File \u001b[0;32m\"<ipython-input-6-1f6450c77ef5>\"\u001b[0;36m, line \u001b[0;32m2\u001b[0m\n\u001b[0;31m    1234_get_on_the_dance_floor = \"really?\" # this is wrong. see what error you will get\u001b[0m\n\u001b[0m        ^\u001b[0m\n\u001b[0;31mSyntaxError\u001b[0m\u001b[0;31m:\u001b[0m invalid token\n"
     ]
    }
   ],
   "source": [
    "# definitely the wrong way to declare variables\n",
    "1234_get_on_the_dance_floor = \"really?\" # this is wrong. see what error you will get"
   ]
  },
  {
   "cell_type": "markdown",
   "metadata": {
    "ExecuteTime": {
     "end_time": "2018-10-08T15:35:46.397704Z",
     "start_time": "2018-10-08T15:35:46.392236Z"
    }
   },
   "source": [
    "## Data Type and Type Conversion <a name = \"data_type_conversion\"></a>"
   ]
  },
  {
   "cell_type": "code",
   "execution_count": 7,
   "metadata": {
    "ExecuteTime": {
     "end_time": "2018-11-06T07:20:04.611126Z",
     "start_time": "2018-11-06T07:20:04.604220Z"
    }
   },
   "outputs": [
    {
     "name": "stdout",
     "output_type": "stream",
     "text": [
      "<class 'str'>\n",
      "<class 'bool'>\n",
      "<class 'float'>\n",
      "<class 'complex'>\n"
     ]
    }
   ],
   "source": [
    "# data types\n",
    "\n",
    "print(type(\"hello\"))\n",
    "\n",
    "print(type(True))\n",
    "\n",
    "print(type(999.666))\n",
    "\n",
    "print(type((-1+0j)))\n",
    "\n",
    "# and also list, tuple, set, dictionary, date, enumerate"
   ]
  },
  {
   "cell_type": "code",
   "execution_count": 8,
   "metadata": {
    "ExecuteTime": {
     "end_time": "2018-11-06T07:20:06.304681Z",
     "start_time": "2018-11-06T07:20:06.297703Z"
    }
   },
   "outputs": [
    {
     "name": "stdout",
     "output_type": "stream",
     "text": [
      "6.0\n",
      "99 <class 'str'>\n",
      "9\n"
     ]
    }
   ],
   "source": [
    "# type conversion\n",
    "\n",
    "print(float(6))\n",
    "print(str(99) + \" \" + str(type(str(99))))\n",
    "print(int(\"3\") + int(\"6\"))"
   ]
  },
  {
   "cell_type": "markdown",
   "metadata": {},
   "source": [
    "# Importing Python Modules and standard libraries <a name = \"modules\"></a>\n",
    "\n",
    "Python is structured in Modules. From these modules, it is possible to extend the python interpreter capabilities."
   ]
  },
  {
   "cell_type": "code",
   "execution_count": 9,
   "metadata": {
    "ExecuteTime": {
     "end_time": "2018-11-06T07:20:08.551034Z",
     "start_time": "2018-11-06T07:20:08.544347Z"
    }
   },
   "outputs": [
    {
     "name": "stdout",
     "output_type": "stream",
     "text": [
      "0.8509035245341184\n",
      "1.6094379124341003\n"
     ]
    }
   ],
   "source": [
    "## Importing standard and open-source external libaries to your programming environment\n",
    "\n",
    "##There are several ways to import modules:\n",
    "# 1. By directly import\n",
    "import math\n",
    "# this is fine but avoid this sort of impoting. Instead, try this:\n",
    "\n",
    "# 2. By specifically importing its functions\n",
    "from math import sin, log\n",
    "print(sin(45))\n",
    "print(log(5))\n",
    "\n",
    "# better not take the following approach\n",
    "# 3. By importing everything\n",
    "from math import *"
   ]
  },
  {
   "cell_type": "code",
   "execution_count": 10,
   "metadata": {
    "ExecuteTime": {
     "end_time": "2018-11-06T07:20:10.284460Z",
     "start_time": "2018-11-06T07:20:10.278867Z"
    }
   },
   "outputs": [
    {
     "name": "stdout",
     "output_type": "stream",
     "text": [
      "0.8509035245341184\n"
     ]
    }
   ],
   "source": [
    "# if you still wish to use the entire library, you need to do it like this\n",
    "import math\n",
    "\n",
    "print(math.sin(45))"
   ]
  },
  {
   "cell_type": "code",
   "execution_count": 11,
   "metadata": {
    "ExecuteTime": {
     "end_time": "2018-11-06T07:20:12.217700Z",
     "start_time": "2018-11-06T07:20:12.212658Z"
    },
    "scrolled": true
   },
   "outputs": [
    {
     "ename": "SyntaxError",
     "evalue": "invalid syntax (<ipython-input-11-fb7b90dea49e>, line 1)",
     "output_type": "error",
     "traceback": [
      "\u001b[0;36m  File \u001b[0;32m\"<ipython-input-11-fb7b90dea49e>\"\u001b[0;36m, line \u001b[0;32m1\u001b[0m\n\u001b[0;31m    print math.log(5)\u001b[0m\n\u001b[0m             ^\u001b[0m\n\u001b[0;31mSyntaxError\u001b[0m\u001b[0;31m:\u001b[0m invalid syntax\n"
     ]
    }
   ],
   "source": [
    "print math.log(5)"
   ]
  },
  {
   "cell_type": "markdown",
   "metadata": {},
   "source": [
    "### Some of the default modules in Python\n",
    "![default_modules](https://github.com/Tamoghna-Saha/Notebook/blob/master/Photos/default_modules.png)"
   ]
  },
  {
   "cell_type": "code",
   "execution_count": 12,
   "metadata": {
    "ExecuteTime": {
     "end_time": "2018-11-06T07:20:19.334131Z",
     "start_time": "2018-11-06T07:20:18.053009Z"
    },
    "hide_input": true
   },
   "outputs": [],
   "source": [
    "import numpy as np\n",
    "import keyword\n",
    "from tabulate import tabulate"
   ]
  },
  {
   "cell_type": "markdown",
   "metadata": {},
   "source": [
    "# Python Built-in Functions and keywords <a name = \"builtins\"></a>\n",
    "\n",
    "Built-in functions are core functions, provided by the Python Interpreter.\n",
    "\n",
    "These functions are implemented in C and because of that, are capable of using and manipulating Python objects at memory level, with increased performance."
   ]
  },
  {
   "cell_type": "code",
   "execution_count": 13,
   "metadata": {
    "ExecuteTime": {
     "end_time": "2018-11-06T07:20:24.616569Z",
     "start_time": "2018-11-06T07:20:24.593106Z"
    },
    "hide_input": true
   },
   "outputs": [
    {
     "name": "stdout",
     "output_type": "stream",
     "text": [
      "| ArithmeticError      | AssertionError         | AttributeError     | BaseException             |\n",
      "| BlockingIOError      | BrokenPipeError        | BufferError        | BytesWarning              |\n",
      "| ChildProcessError    | ConnectionAbortedError | ConnectionError    | ConnectionRefusedError    |\n",
      "| ConnectionResetError | DeprecationWarning     | EOFError           | Ellipsis                  |\n",
      "| EnvironmentError     | Exception              | False              | FileExistsError           |\n",
      "| FileNotFoundError    | FloatingPointError     | FutureWarning      | GeneratorExit             |\n",
      "| IOError              | ImportError            | ImportWarning      | IndentationError          |\n",
      "| IndexError           | InterruptedError       | IsADirectoryError  | KeyError                  |\n",
      "| KeyboardInterrupt    | LookupError            | MemoryError        | ModuleNotFoundError       |\n",
      "| NameError            | None                   | NotADirectoryError | NotImplemented            |\n",
      "| NotImplementedError  | OSError                | OverflowError      | PendingDeprecationWarning |\n",
      "| PermissionError      | ProcessLookupError     | RecursionError     | ReferenceError            |\n",
      "| ResourceWarning      | RuntimeError           | RuntimeWarning     | StopAsyncIteration        |\n",
      "| StopIteration        | SyntaxError            | SyntaxWarning      | SystemError               |\n",
      "| SystemExit           | TabError               | TimeoutError       | True                      |\n",
      "| TypeError            | UnboundLocalError      | UnicodeDecodeError | UnicodeEncodeError        |\n",
      "| UnicodeError         | UnicodeTranslateError  | UnicodeWarning     | UserWarning               |\n",
      "| ValueError           | Warning                | ZeroDivisionError  | __IPYTHON__               |\n",
      "| __build_class__      | __debug__              | __doc__            | __import__                |\n",
      "| __loader__           | __name__               | __package__        | __spec__                  |\n",
      "| abs                  | all                    | any                | ascii                     |\n",
      "| bin                  | bool                   | bytearray          | bytes                     |\n",
      "| callable             | chr                    | classmethod        | compile                   |\n",
      "| complex              | copyright              | credits            | delattr                   |\n",
      "| dict                 | dir                    | display            | divmod                    |\n",
      "| enumerate            | eval                   | exec               | filter                    |\n",
      "| float                | format                 | frozenset          | get_ipython               |\n",
      "| getattr              | globals                | hasattr            | hash                      |\n",
      "| help                 | hex                    | id                 | input                     |\n",
      "| int                  | isinstance             | issubclass         | iter                      |\n",
      "| len                  | license                | list               | locals                    |\n",
      "| map                  | max                    | memoryview         | min                       |\n",
      "| next                 | object                 | oct                | open                      |\n",
      "| ord                  | pow                    | print              | property                  |\n",
      "| range                | repr                   | reversed           | round                     |\n",
      "| set                  | setattr                | slice              | sorted                    |\n",
      "| staticmethod         | str                    | sum                | super                     |\n",
      "| tuple                | type                   | vars               | zip                       |\n"
     ]
    }
   ],
   "source": [
    "builtin_functions_list = dir(__builtins__)\n",
    "builtin_functions_data = np.array(builtin_functions_list)\n",
    "shape = ((len(builtin_functions_list)//4),4)\n",
    "print(tabulate(builtin_functions_data.reshape(shape), tablefmt='orgtbl'))"
   ]
  },
  {
   "cell_type": "code",
   "execution_count": 14,
   "metadata": {
    "ExecuteTime": {
     "end_time": "2018-11-06T07:20:28.146572Z",
     "start_time": "2018-11-06T07:20:28.136268Z"
    },
    "hide_input": true,
    "scrolled": true
   },
   "outputs": [
    {
     "name": "stdout",
     "output_type": "stream",
     "text": [
      "| False | None   | True     |\n",
      "| and   | as     | assert   |\n",
      "| break | class  | continue |\n",
      "| def   | del    | elif     |\n",
      "| else  | except | finally  |\n",
      "| for   | from   | global   |\n",
      "| if    | import | in       |\n",
      "| is    | lambda | nonlocal |\n",
      "| not   | or     | pass     |\n",
      "| raise | return | try      |\n",
      "| while | with   | yield    |\n"
     ]
    }
   ],
   "source": [
    "### keywords\n",
    "keywords_list = keyword.kwlist\n",
    "keywords_data = np.array(keywords_list)\n",
    "shape = ((len(keywords_list)//3),3)\n",
    "print(tabulate(keywords_data.reshape(shape), tablefmt='orgtbl'))"
   ]
  },
  {
   "cell_type": "markdown",
   "metadata": {},
   "source": [
    "# String operations and formatting <a name = \"string_ops\"></a>"
   ]
  },
  {
   "cell_type": "code",
   "execution_count": 15,
   "metadata": {
    "ExecuteTime": {
     "end_time": "2018-11-06T07:20:31.274678Z",
     "start_time": "2018-11-06T07:20:30.280015Z"
    }
   },
   "outputs": [
    {
     "name": "stdout",
     "output_type": "stream",
     "text": [
      "This is concatenation of string\n",
      "333\n"
     ]
    },
    {
     "ename": "TypeError",
     "evalue": "can't multiply sequence by non-int of type 'float'",
     "output_type": "error",
     "traceback": [
      "\u001b[0;31m---------------------------------------------------------------------------\u001b[0m",
      "\u001b[0;31mTypeError\u001b[0m                                 Traceback (most recent call last)",
      "\u001b[0;32m<ipython-input-15-6eae2c361731>\u001b[0m in \u001b[0;36m<module>\u001b[0;34m()\u001b[0m\n\u001b[1;32m      6\u001b[0m \u001b[0mprint\u001b[0m\u001b[0;34m(\u001b[0m\u001b[0;36m3\u001b[0m\u001b[0;34m*\u001b[0m\u001b[0;34m\"3\"\u001b[0m\u001b[0;34m)\u001b[0m\u001b[0;34m\u001b[0m\u001b[0m\n\u001b[1;32m      7\u001b[0m \u001b[0;34m\u001b[0m\u001b[0m\n\u001b[0;32m----> 8\u001b[0;31m \u001b[0mprint\u001b[0m\u001b[0;34m(\u001b[0m\u001b[0;34m\"python\"\u001b[0m\u001b[0;34m*\u001b[0m\u001b[0;36m3.7\u001b[0m\u001b[0;34m)\u001b[0m\u001b[0;34m\u001b[0m\u001b[0m\n\u001b[0m\u001b[1;32m      9\u001b[0m \u001b[0;34m\u001b[0m\u001b[0m\n\u001b[1;32m     10\u001b[0m \u001b[0mprint\u001b[0m\u001b[0;34m(\u001b[0m\u001b[0;34m\"This will not print\"\u001b[0m\u001b[0;34m)\u001b[0m\u001b[0;34m\u001b[0m\u001b[0m\n",
      "\u001b[0;31mTypeError\u001b[0m: can't multiply sequence by non-int of type 'float'"
     ]
    }
   ],
   "source": [
    "## Concatenation\n",
    "\n",
    "str_var_1 = \"concatenation\"\n",
    "print(\"This is \" + str_var_1 + \" of string\")\n",
    "\n",
    "print(3*\"3\")\n",
    "\n",
    "print(\"python\"*3.7)\n",
    "\n",
    "print(\"This will not print\")"
   ]
  },
  {
   "cell_type": "code",
   "execution_count": 17,
   "metadata": {
    "ExecuteTime": {
     "end_time": "2018-11-06T07:20:43.130398Z",
     "start_time": "2018-11-06T07:20:43.123995Z"
    }
   },
   "outputs": [
    {
     "name": "stdout",
     "output_type": "stream",
     "text": [
      "We are using Python version 3.6.x\n",
      "abra cadabra \n"
     ]
    }
   ],
   "source": [
    "## string formatting\n",
    "\n",
    "# It provides a powerful way of embedding non-strings with strings\n",
    "\n",
    "x = \"We are using Python version {}.{}.x\".format(3,6)\n",
    "print(x)\n",
    "\n",
    "print(\"{0}{1}{0}\".format(\"abra \",\"cad\"))"
   ]
  },
  {
   "cell_type": "code",
   "execution_count": 18,
   "metadata": {
    "ExecuteTime": {
     "end_time": "2018-11-06T07:20:53.749192Z",
     "start_time": "2018-11-06T07:20:44.198001Z"
    }
   },
   "outputs": [
    {
     "name": "stdout",
     "output_type": "stream",
     "text": [
      "Enter your ID: 0123\n",
      "Employee having ID No: 0123 is late for office today.\n"
     ]
    }
   ],
   "source": [
    "## user input\n",
    "\n",
    "data_input = input(\"Enter your ID: \")\n",
    "print(\"Employee having ID No: {} is late for office today.\".format(data_input))"
   ]
  },
  {
   "cell_type": "markdown",
   "metadata": {
    "ExecuteTime": {
     "end_time": "2018-10-08T19:36:04.234044Z",
     "start_time": "2018-10-08T19:36:04.230242Z"
    }
   },
   "source": [
    "# Useful Pythonic Functions <a name = \"pythonic_func\"></a>"
   ]
  },
  {
   "cell_type": "code",
   "execution_count": 19,
   "metadata": {
    "ExecuteTime": {
     "end_time": "2018-11-06T07:20:57.476086Z",
     "start_time": "2018-11-06T07:20:57.469004Z"
    }
   },
   "outputs": [
    {
     "name": "stdout",
     "output_type": "stream",
     "text": [
      "NASA,Google,Netflix,Yahoo\n",
      "['NASA', 'Google', 'Netflix', 'Yahoo']\n",
      "Python 3.6\n",
      "True\n",
      "PYTHON\n"
     ]
    }
   ],
   "source": [
    "# strings\n",
    "\n",
    "print(\",\".join([\"NASA\",\"Google\",\"Netflix\",\"Yahoo\"]))\n",
    "\n",
    "print(\"NASA,Google,Netflix,Yahoo\".split(\",\"))\n",
    "\n",
    "print(\"Python 2.7\".replace(\"2.7\",\"3.6\"))\n",
    "\n",
    "print(\"There is more to it than meets the eye\".startswith(\"There\")) # also endswith is there\n",
    "\n",
    "print(\"python\".upper())"
   ]
  },
  {
   "cell_type": "code",
   "execution_count": 20,
   "metadata": {
    "ExecuteTime": {
     "end_time": "2018-11-06T07:20:58.670285Z",
     "start_time": "2018-11-06T07:20:58.664896Z"
    }
   },
   "outputs": [
    {
     "name": "stdout",
     "output_type": "stream",
     "text": [
      "98\n",
      "9\n",
      "20\n"
     ]
    }
   ],
   "source": [
    "# numeric\n",
    "\n",
    "print(max(10,64,86,13,98))\n",
    "\n",
    "print(abs(-9))\n",
    "\n",
    "print(sum([2,4,6,8]))"
   ]
  },
  {
   "cell_type": "markdown",
   "metadata": {},
   "source": [
    "# User-Defined Function <a name = \"udf\"></a>\n",
    "\n",
    "Before going ahead, can you tell me the difference between a function and a method? [Answer](#answer2)\n",
    "\n",
    "<a name=\"back2\"></a>\n",
    "Create your own functions using __def__ keyword.\n",
    "\n",
    "UDF can either take or don't take arguments. Technically, **parameters** are the variables in a function definition, and **arguments** are the values placed to the parameters when the function is called.\n",
    "\n",
    "**NOTE: You must define functions before they are called, in the same way you declare a variable before using them**\n",
    "\n",
    "The name of the UDF should be __lowercase__."
   ]
  },
  {
   "cell_type": "code",
   "execution_count": 21,
   "metadata": {
    "ExecuteTime": {
     "end_time": "2018-11-06T07:21:01.571097Z",
     "start_time": "2018-11-06T07:21:01.559205Z"
    }
   },
   "outputs": [
    {
     "name": "stdout",
     "output_type": "stream",
     "text": [
      "Calling UDF 1!\n",
      "RequiredArg:  17.1\n",
      "\n",
      "Calling UDF 2!\n",
      "OptionalArg:  None\n",
      "OptionalArg:  9\n",
      "\n",
      "Calling UDF 3!\n",
      "RequiredArg:  Python\n",
      "OptionalArg:  3.6\n",
      "Remaining Non-keyworded args:  (2, 7)\n",
      "Remaining keyworded args:  {'MSU_Python_Session': 1}\n"
     ]
    }
   ],
   "source": [
    "def udf_1(rqrdArg):\n",
    "    return(3*rqrdArg)\n",
    "\n",
    "def udf_2(optnlArg = None):\n",
    "    print(\"OptionalArg: \", optnlArg)\n",
    "    \n",
    "def udf_3(rqrdArg, optnlArg=None, *args, **kwargs): # *args = extra unnamed argument, **kwargs = extra named arguments\n",
    "    print(\"RequiredArg: \", rqrdArg)\n",
    "    print(\"OptionalArg: \", optnlArg)\n",
    "    print(\"Remaining Non-keyworded args: \",args)\n",
    "    print(\"Remaining keyworded args: \",kwargs)\n",
    "\n",
    "print(\"Calling UDF 1!\")\n",
    "print(\"RequiredArg: \", udf_1(5.7))\n",
    "\n",
    "print(\"\\nCalling UDF 2!\")\n",
    "udf_2()\n",
    "udf_2(9)\n",
    "\n",
    "print(\"\\nCalling UDF 3!\")\n",
    "udf_3(\"Python\",\"3.6\",2,7,MSU_Python_Session=1)"
   ]
  },
  {
   "cell_type": "code",
   "execution_count": 22,
   "metadata": {
    "ExecuteTime": {
     "end_time": "2018-11-06T07:21:05.537207Z",
     "start_time": "2018-11-06T07:21:05.532260Z"
    }
   },
   "outputs": [
    {
     "name": "stdout",
     "output_type": "stream",
     "text": [
      "120\n"
     ]
    }
   ],
   "source": [
    "def UDF_factorial(x):\n",
    "    \"\"\"\n",
    "    This is a recursive function performing factorial of a number\n",
    "    \n",
    "    x -> the number whose factorial is calculated\n",
    "    \"\"\"\n",
    "    if x == 1:\n",
    "        return 1\n",
    "    else:\n",
    "        return x * UDF_factorial(x-1)\n",
    "    \n",
    "print(UDF_factorial(5))"
   ]
  },
  {
   "cell_type": "code",
   "execution_count": null,
   "metadata": {
    "ExecuteTime": {
     "end_time": "2018-10-09T13:27:47.853004Z",
     "start_time": "2018-10-09T13:27:47.844779Z"
    }
   },
   "outputs": [],
   "source": [
    "# how to check the function's docstring\n",
    "UDF_factorial (# place the cursor in the function name and press shift+tab)"
   ]
  },
  {
   "cell_type": "code",
   "execution_count": null,
   "metadata": {
    "ExecuteTime": {
     "end_time": "2018-11-02T11:59:12.685012Z",
     "start_time": "2018-11-02T11:59:12.676989Z"
    }
   },
   "outputs": [],
   "source": [
    "?UDF_factorial"
   ]
  },
  {
   "cell_type": "markdown",
   "metadata": {},
   "source": [
    "# Scope of a variable <a name=\"scope\"></a>\n",
    "\n",
    "Not all variables are accessible from all parts of our program, and not all variables exist for the same amount of time.\n",
    "\n",
    "A scope is a textual region of a Python program where a __namespace__ is directly accessible.\n",
    "A namespace is a mapping from names (variables) to objects.\n",
    "\n",
    "Basically, part of a program where a variable is accessible is its __scope__ and the duration for which the variable exists its __lifetime__.\n",
    "\n",
    "There are two types of variable scope:\n",
    "* __Global__: It is defined in the main body of a file, will be visible throughout the file, and also inside any file which imports that file.\n",
    "* __Local__: it is  defined inside a function, limiting its availability inside that function. It is accessible from the point at which it is defined until the end of the function, and exists for as long as the function is executing.\n",
    "\n",
    "In Python 3, a third type of variable scope has been defined - __nonlocal__. It allows to assign variables in an __outer, but non-global__, scope."
   ]
  },
  {
   "cell_type": "code",
   "execution_count": 23,
   "metadata": {
    "ExecuteTime": {
     "end_time": "2018-11-06T07:22:01.557870Z",
     "start_time": "2018-11-06T07:22:01.546189Z"
    }
   },
   "outputs": [
    {
     "name": "stdout",
     "output_type": "stream",
     "text": [
      "x inside : global\n",
      "x outside: global\n"
     ]
    }
   ],
   "source": [
    "# example showing global, local and nonlocal scopes\n",
    "\n",
    "# global and local\n",
    "x = \"global\"\n",
    "\n",
    "def foo():\n",
    "    print(\"x inside :\", x)\n",
    "\n",
    "foo()\n",
    "print(\"x outside:\", x)"
   ]
  },
  {
   "cell_type": "code",
   "execution_count": 24,
   "metadata": {
    "ExecuteTime": {
     "end_time": "2018-11-06T07:22:03.460831Z",
     "start_time": "2018-11-06T07:22:03.456850Z"
    }
   },
   "outputs": [
    {
     "name": "stdout",
     "output_type": "stream",
     "text": [
      "Inside!\n",
      "Outside!\n"
     ]
    }
   ],
   "source": [
    "def outside():\n",
    "    msg = \"Outside!\"\n",
    "    def inside():\n",
    "        msg = \"Inside!\"\n",
    "        print(msg)\n",
    "    inside()\n",
    "    print(msg)\n",
    "    \n",
    "outside()"
   ]
  },
  {
   "cell_type": "markdown",
   "metadata": {},
   "source": [
    "_msg_  is declared in the __outside__ function and assigned the value _\"Outside!_\". Then, in the __inside__ function, the value _\"Inside!\"_ is assigned to it. \n",
    "\n",
    "When we run __outside__, _msg_ has the value \"Inside!\" in the __inside__ function, but retains the old value in the __outside__ function.\n",
    "\n",
    "We see this behaviour because Python hasn’t actually assigned new value _\"Inside\"_ to the existing _msg_ variable, but has created a new variable called __msg in the local scope of inside that shadows the name of the variable in the outer scope__.\n",
    "\n",
    "Preventing that behaviour is where the nonlocal keyword comes in."
   ]
  },
  {
   "cell_type": "code",
   "execution_count": 25,
   "metadata": {
    "ExecuteTime": {
     "end_time": "2018-11-06T07:22:09.644683Z",
     "start_time": "2018-11-06T07:22:09.635953Z"
    }
   },
   "outputs": [
    {
     "name": "stdout",
     "output_type": "stream",
     "text": [
      "Inside!\n",
      "Inside!\n",
      "Double Outside!\n"
     ]
    }
   ],
   "source": [
    "#nonlocal\n",
    "def double_outside():\n",
    "    msg = \"Double Outside!\"\n",
    "    def outside():\n",
    "        msg = \"Outside!\"\n",
    "        def inside():\n",
    "            nonlocal msg\n",
    "            msg = \"Inside!\"\n",
    "            print(msg)\n",
    "        inside()\n",
    "        print(msg)\n",
    "    outside()\n",
    "    print(msg)\n",
    "    \n",
    "double_outside()"
   ]
  },
  {
   "cell_type": "markdown",
   "metadata": {},
   "source": [
    "Now, by adding __nonlocal__ _msg_ to the top of __inside__, Python knows that when it sees an assignment to msg, it should assign to the variable from the outer scope __instead of declaring a new variable that shadows its name__.\n",
    "\n",
    "The usage of nonlocal is very similar to that of global, except that the former is used for __variables in outer function scopes__ and the latter is used for variable in the global scope."
   ]
  },
  {
   "cell_type": "markdown",
   "metadata": {},
   "source": [
    "# Answers <a name=\"answers\"></a>"
   ]
  },
  {
   "cell_type": "markdown",
   "metadata": {
    "ExecuteTime": {
     "end_time": "2018-10-01T10:19:21.718785Z",
     "start_time": "2018-10-01T10:19:21.710171Z"
    }
   },
   "source": [
    "<a name=\"answer1\"></a>\n",
    "\n",
    "| Interpreter | Compiler |\n",
    "| :---: | :---: |\n",
    "| Executes program by taking **one statement** at a time | Translates the **entire program** at once into machine code |\n",
    "| **No intermediate object code** is generated, hence memory efficient | **Generates intermediate object code** which further requires linking, hence requires **more memory** |\n",
    "| Less amount of time to **analyze** the source code | More amount of time |\n",
    "| Overall **execution** is slower | Faster |\n",
    "| Easier to **debug** but less efficient | Difficult but more efficient |\n",
    "| Errors are reported after the **entire program is checked** | Error is reported as soon as the **first error is encountered** and will not show the next set of errors if the existing one isn't solved |\n",
    "\n",
    "### Python Interpreter: How does it work?\n",
    "\n",
    "![python-interpreter](https://github.com/Tamoghna-Saha/Notebook/blob/master/Photos/python-interpreter.png)\n",
    "\n",
    "[..back](#back1)"
   ]
  },
  {
   "cell_type": "markdown",
   "metadata": {},
   "source": [
    "<a name=\"answer2\"></a>\n",
    "\n",
    "| Method        | Function      |\n",
    "|:---:|:---:|\n",
    "| Method is a block of code that is called by its name, but is associated to an object (dependent) | Function is a piece of code that is called by its name but independent |\n",
    "| Method is implicitly passed for the object for which it was called | Functions can have parameters, so arguments can be passed to those paramters but explicitely |\n",
    "\n",
    "[..back](#back2)"
   ]
  },
  {
   "cell_type": "markdown",
   "metadata": {},
   "source": [
    "# Additional Read <a name = \"additional_read\"></a>\n",
    "\n",
    "* [Floating Point Issue](https://docs.python.org/3/tutorial/floatingpoint.html)\n",
    "* [PEP0008 - Style Guide of Python](https://www.python.org/dev/peps/pep-0008/)\n",
    "* [The Hitchhker's Guide to Python - Writing Style](https://docs.python-guide.org/writing/style/)"
   ]
  }
 ],
 "metadata": {
  "kernelspec": {
   "display_name": "Python 3",
   "language": "python",
   "name": "python3"
  },
  "language_info": {
   "codemirror_mode": {
    "name": "ipython",
    "version": 3
   },
   "file_extension": ".py",
   "mimetype": "text/x-python",
   "name": "python",
   "nbconvert_exporter": "python",
   "pygments_lexer": "ipython3",
   "version": "3.6.6"
  }
 },
 "nbformat": 4,
 "nbformat_minor": 2
}
