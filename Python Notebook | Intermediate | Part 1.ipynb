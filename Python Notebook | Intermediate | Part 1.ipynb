{
 "cells": [
  {
   "cell_type": "markdown",
   "metadata": {
    "ExecuteTime": {
     "end_time": "2018-09-28T13:08:15.778858Z",
     "start_time": "2018-09-28T13:08:15.773206Z"
    }
   },
   "source": [
    "<h1 style=\"font-size: 20pt\">Python Notebook | Intermediate | Part 1</h1><br/>\n",
    "\n",
    "<b> Author: </b> Tamoghna Saha<br/> \n",
    "<b> Created: </b> October 2018<br/>\n",
    "\n",
    "![Python](Photos/python-intermediate.png)"
   ]
  },
  {
   "cell_type": "markdown",
   "metadata": {
    "ExecuteTime": {
     "end_time": "2018-09-28T13:09:39.903487Z",
     "start_time": "2018-09-28T13:09:39.896175Z"
    }
   },
   "source": [
    "# Table of Content:\n",
    "* [Small test](#test)\n",
    "* [More Data Types](#more_types)\n",
    "* [Conditional statements, Loops](#loops)\n",
    "* [File I/O](#io)\n",
    "* [Exception Handling](#handling)\n",
    "* [Answers](#answer)"
   ]
  },
  {
   "cell_type": "code",
   "execution_count": 1,
   "metadata": {
    "ExecuteTime": {
     "end_time": "2019-02-18T08:11:17.195175Z",
     "start_time": "2019-02-18T08:11:17.189854Z"
    }
   },
   "outputs": [
    {
     "name": "stdout",
     "output_type": "stream",
     "text": [
      "60\n"
     ]
    }
   ],
   "source": [
    "# Small test\n",
    "\n",
    "def operation(x, y):\n",
    "    return x+y\n",
    "\n",
    "def another_operation(func, x, y):\n",
    "    return func(func(x,y), func(x,y))\n",
    "\n",
    "a = 5\n",
    "b = 25\n",
    "\n",
    "print(another_operation(operation, a, b))"
   ]
  },
  {
   "cell_type": "markdown",
   "metadata": {},
   "source": [
    "# More Data Types <a name=\"more_types\"></a>\n",
    "\n",
    "__List of immutable objects:__\n",
    "* bool\n",
    "* int\n",
    "* float\n",
    "* str\n",
    "* tuple\n",
    "* frozenset\n",
    "\n",
    "__List of mutable objects:__\n",
    "* list\n",
    "* set\n",
    "* dict\n",
    "\n",
    "## List\n",
    "\n",
    "List is a type of __mutable__ object in Python used to store an __indexed__ list of item. It is created using __square brackets__ with commas separating the items. A certain item from the list can be accessed using it's index number.\n",
    "\n",
    "An empty list is created using an empty pair of square brackets.\n",
    "\n",
    "A list can contain items of a __single item type or multiple item type__. A list within a list is also possible which is used to represent 2D grids as Python, by default, lacks multi-dimensional array feature. But this can be achieved using __numpy__ which we will discuss in our Advanced Notebook.\n",
    "\n",
    "__NOTE: Strings can be indexed like a list__."
   ]
  },
  {
   "cell_type": "code",
   "execution_count": 2,
   "metadata": {
    "ExecuteTime": {
     "end_time": "2019-02-18T08:16:51.398988Z",
     "start_time": "2019-02-18T08:16:51.383740Z"
    }
   },
   "outputs": [
    {
     "name": "stdout",
     "output_type": "stream",
     "text": [
      "Python\n",
      "Tuple\n",
      "3.6\n",
      "['Python', 2.7, ['Up Next', 'Tuple']]\n",
      "In our last class, we went through UDF\n"
     ]
    }
   ],
   "source": [
    "empty_list = []\n",
    "\n",
    "words = ['Python',3.6,['Up Next','Tuple']]\n",
    "\n",
    "print(words[0])\n",
    "print(words[2][1])\n",
    "\n",
    "print(words[1])\n",
    "words[1]=2.7\n",
    "print(words)\n",
    "\n",
    "## accessing items of string by index\n",
    "short_form = \"User Defined Function\"\n",
    "print(\"In our last class, we went through {}{}{}\".format(short_form[0], short_form[5], short_form[13]))"
   ]
  },
  {
   "cell_type": "code",
   "execution_count": 3,
   "metadata": {
    "ExecuteTime": {
     "end_time": "2019-02-18T08:18:54.107399Z",
     "start_time": "2019-02-18T08:18:54.099296Z"
    }
   },
   "outputs": [
    {
     "name": "stdout",
     "output_type": "stream",
     "text": [
      "[1, 2, 3, 4, 5, 6]\n",
      "[1, 2, 3, 1, 2, 3]\n",
      "False\n",
      "True\n",
      "False\n"
     ]
    }
   ],
   "source": [
    "## basic list operations\n",
    "num_list = [1,2,3]\n",
    "print(num_list + [4,5,6])\n",
    "print(num_list * 2)\n",
    "print(4 in num_list)\n",
    "print(9 not in num_list)\n",
    "print(not 1 in num_list)"
   ]
  },
  {
   "cell_type": "code",
   "execution_count": 4,
   "metadata": {
    "ExecuteTime": {
     "end_time": "2019-02-18T08:23:16.632826Z",
     "start_time": "2019-02-18T08:23:16.619494Z"
    }
   },
   "outputs": [
    {
     "name": "stdout",
     "output_type": "stream",
     "text": [
      "[1, 2, 3, 4, [5, 6]]\n",
      "5\n",
      "[1, 2, 3, 4, [5, 6], 7, 8, 9]\n",
      "8\n",
      "[1, 2, 2.5, 3, 4, [5, 6], 7, 8, 9]\n",
      "==================================================\n",
      "3\n",
      "1\n",
      "[1, 2, 2.5, 3, 4, 7, 8]\n",
      "8\n",
      "0\n",
      "[8, 7, 4, 3, 2.5, 2, 1]\n"
     ]
    }
   ],
   "source": [
    "# list functions and methods\n",
    "num = [1,2,3]\n",
    "num.append(4)\n",
    "num.append([5,6])\n",
    "print(num)\n",
    "\n",
    "print(len(num))\n",
    "\n",
    "num.extend([7,8,9])\n",
    "print(num)\n",
    "print(len(num))\n",
    "\n",
    "index = 2\n",
    "num.insert(index, 2.5)\n",
    "print(num)\n",
    "\n",
    "print(\"=\"*50)\n",
    "\n",
    "print(num.index(3))\n",
    "print(num.index(2.0))\n",
    "\n",
    "num.remove([5,6])\n",
    "num.pop()\n",
    "print(num)\n",
    "\n",
    "print(max(num))\n",
    "print(num.count(5))\n",
    "\n",
    "num.reverse()\n",
    "print(num)"
   ]
  },
  {
   "cell_type": "markdown",
   "metadata": {},
   "source": [
    "## Tuple\n",
    "\n",
    "Tuple is a __immutable__ Python object created using __Parentheses__ with commas separating the items which can be accessed using it's index number.\n",
    "\n",
    "It is just like list, except __you cannot modify or re-assign a value in the tuple. It will throw TypeError__.\n",
    "\n",
    "An empty tuple can also be created in the same way you create empty list.\n",
    "\n",
    "__NOTE: Tuples can also be created without using Parentheses, simply separated by commas.__\n",
    "\n",
    "### But when should we put parenthesis on tuples, and when we shouldn't?\n",
    "\n",
    "__Answer__: We use parentheses for __nested tuple__."
   ]
  },
  {
   "cell_type": "code",
   "execution_count": 5,
   "metadata": {
    "ExecuteTime": {
     "end_time": "2019-02-18T08:29:13.692478Z",
     "start_time": "2019-02-18T08:29:13.634582Z"
    }
   },
   "outputs": [
    {
     "name": "stdout",
     "output_type": "stream",
     "text": [
      "tuple\n",
      "('is', 'my', 'TUPLE')\n"
     ]
    },
    {
     "ename": "IndexError",
     "evalue": "tuple index out of range",
     "output_type": "error",
     "traceback": [
      "\u001b[0;31m---------------------------------------------------------------------------\u001b[0m",
      "\u001b[0;31mIndexError\u001b[0m                                Traceback (most recent call last)",
      "\u001b[0;32m<ipython-input-5-384e158a04a9>\u001b[0m in \u001b[0;36m<module>\u001b[0;34m\u001b[0m\n\u001b[1;32m     10\u001b[0m \u001b[0;34m\u001b[0m\u001b[0m\n\u001b[1;32m     11\u001b[0m \u001b[0malso_my_tuple\u001b[0m \u001b[0;34m=\u001b[0m \u001b[0;34m'is'\u001b[0m\u001b[0;34m,\u001b[0m \u001b[0;34m'this'\u001b[0m\u001b[0;34m,\u001b[0m \u001b[0;34m'one'\u001b[0m\u001b[0;34m\u001b[0m\u001b[0;34m\u001b[0m\u001b[0m\n\u001b[0;32m---> 12\u001b[0;31m \u001b[0mprint\u001b[0m\u001b[0;34m(\u001b[0m\u001b[0malso_my_tuple\u001b[0m\u001b[0;34m[\u001b[0m\u001b[0;36m3\u001b[0m\u001b[0;34m]\u001b[0m\u001b[0;34m)\u001b[0m\u001b[0;34m\u001b[0m\u001b[0;34m\u001b[0m\u001b[0m\n\u001b[0m",
      "\u001b[0;31mIndexError\u001b[0m: tuple index out of range"
     ]
    }
   ],
   "source": [
    "empty_tuple = ()\n",
    "\n",
    "my_tuple = (\"is\", \"my\", \"tuple\")\n",
    "print(my_tuple[2])\n",
    "\n",
    "my_tuple_l = list(my_tuple)\n",
    "my_tuple_l[2] = \"TUPLE\"\n",
    "my_tuple = tuple(my_tuple_l)\n",
    "print(my_tuple)\n",
    "\n",
    "also_my_tuple = 'is', 'this', 'one'\n",
    "print(also_my_tuple[3])"
   ]
  },
  {
   "cell_type": "markdown",
   "metadata": {},
   "source": [
    "## Dictionaries\n",
    "\n",
    "Dictionaries are data structures used __to map keys to values__. Just like list, they are __mutable__ and made using __curly brackets__. \n",
    "\n",
    "Dictionaries can be indexed in the same way as lists, __using square brackets containing keys__. Trying to index a key that isn't a part of the dictionary returns a __KeyError__.\n",
    "\n",
    "The useful dictionary method is __get__. It does same thing as indexing, but if the key is not found in the dictionary, it returns __None__ instead of throwing any error.\n",
    "\n",
    "__NOTE: Only immutable objects can be used as keys to dictionaries.__"
   ]
  },
  {
   "cell_type": "code",
   "execution_count": 6,
   "metadata": {
    "ExecuteTime": {
     "end_time": "2019-02-20T06:41:36.910425Z",
     "start_time": "2019-02-20T06:41:36.675683Z"
    }
   },
   "outputs": [
    {
     "name": "stdout",
     "output_type": "stream",
     "text": [
      "Why so serious?\n",
      "[1, 2, 3]\n",
      "{(1, 2, 3): [1, 2, 3], ('a', 'b', 'c'): ['a', 'b', 'c'], 4: 'd'}\n"
     ]
    },
    {
     "ename": "KeyError",
     "evalue": "0",
     "output_type": "error",
     "traceback": [
      "\u001b[0;31m---------------------------------------------------------------------------\u001b[0m",
      "\u001b[0;31mKeyError\u001b[0m                                  Traceback (most recent call last)",
      "\u001b[0;32m<ipython-input-6-75e3176fb6bc>\u001b[0m in \u001b[0;36m<module>\u001b[0;34m\u001b[0m\n\u001b[1;32m     10\u001b[0m \u001b[0mprint\u001b[0m\u001b[0;34m(\u001b[0m\u001b[0mmy_dict_again\u001b[0m\u001b[0;34m)\u001b[0m\u001b[0;34m\u001b[0m\u001b[0;34m\u001b[0m\u001b[0m\n\u001b[1;32m     11\u001b[0m \u001b[0;34m\u001b[0m\u001b[0m\n\u001b[0;32m---> 12\u001b[0;31m \u001b[0mprint\u001b[0m\u001b[0;34m(\u001b[0m\u001b[0mempty_dict\u001b[0m\u001b[0;34m[\u001b[0m\u001b[0;36m0\u001b[0m\u001b[0;34m]\u001b[0m\u001b[0;34m)\u001b[0m\u001b[0;34m\u001b[0m\u001b[0;34m\u001b[0m\u001b[0m\n\u001b[0m",
      "\u001b[0;31mKeyError\u001b[0m: 0"
     ]
    }
   ],
   "source": [
    "empty_dict = {}\n",
    "\n",
    "my_dict = {\"Joker\":'Why so serious?', \"Bane\": [1,2,3], \"Scarecrow\": 0.05}\n",
    "print(my_dict[\"Joker\"])\n",
    "\n",
    "my_dict_again = {(1,2,3):[1,2,3], ('a','b','c'):['a','b','c']}\n",
    "print(my_dict_again[(1,2,3)])\n",
    "\n",
    "my_dict_again[4] = 'd'\n",
    "print(my_dict_again)\n",
    "\n",
    "print(empty_dict[0])"
   ]
  },
  {
   "cell_type": "markdown",
   "metadata": {},
   "source": [
    "__Quick Question: How to check whether a variable is mutable or not?__ [Answer](#ans1)"
   ]
  },
  {
   "cell_type": "code",
   "execution_count": 7,
   "metadata": {
    "ExecuteTime": {
     "end_time": "2019-01-25T07:45:03.431225Z",
     "start_time": "2019-01-25T07:45:03.418697Z"
    }
   },
   "outputs": [
    {
     "ename": "TypeError",
     "evalue": "unhashable type: 'list'",
     "output_type": "error",
     "traceback": [
      "\u001b[0;31m---------------------------------------------------------------------------\u001b[0m",
      "\u001b[0;31mTypeError\u001b[0m                                 Traceback (most recent call last)",
      "\u001b[0;32m<ipython-input-7-859c69ec502a>\u001b[0m in \u001b[0;36m<module>\u001b[0;34m\u001b[0m\n\u001b[0;32m----> 1\u001b[0;31m \u001b[0mmy_dict_error\u001b[0m \u001b[0;34m=\u001b[0m \u001b[0;34m{\u001b[0m\u001b[0;34m[\u001b[0m\u001b[0;36m1\u001b[0m\u001b[0;34m,\u001b[0m\u001b[0;36m2\u001b[0m\u001b[0;34m,\u001b[0m\u001b[0;36m3\u001b[0m\u001b[0;34m]\u001b[0m\u001b[0;34m:\u001b[0m\u001b[0;34m'a'\u001b[0m\u001b[0;34m,\u001b[0m\u001b[0;34m}\u001b[0m\u001b[0;34m\u001b[0m\u001b[0;34m\u001b[0m\u001b[0m\n\u001b[0m",
      "\u001b[0;31mTypeError\u001b[0m: unhashable type: 'list'"
     ]
    }
   ],
   "source": [
    "my_dict_error = {[1,2,3]:'a',}"
   ]
  },
  {
   "cell_type": "markdown",
   "metadata": {},
   "source": [
    "### What does this error mean?\n",
    "An object is __hashable__ if it has a hash value which never changes during its lifetime (it needs hash() method). List is unhashable because it's content can change over its lifetime.\n",
    "\n",
    "__NOTE__: Don't know about Hash function? Think about it as the fingerprint of a file in an encrypted format. For details, search in Google."
   ]
  },
  {
   "cell_type": "code",
   "execution_count": 8,
   "metadata": {
    "ExecuteTime": {
     "end_time": "2019-02-20T06:45:42.939307Z",
     "start_time": "2019-02-20T06:45:42.928248Z"
    }
   },
   "outputs": [
    {
     "name": "stdout",
     "output_type": "stream",
     "text": [
      "{0: 'infinity', 1: {'a': [1, 2]}, 'b': {2: (3, 4)}}\n",
      "{'a': [1, 2]}\n",
      "True\n",
      "True\n",
      "{0: 'zero', 1: {'a': [1, 2]}, 'b': {2: (3, 4)}}\n"
     ]
    }
   ],
   "source": [
    "# How about a dictionary within a dictionary?\n",
    "my_dict_yet_again = {0:\"infinity\", 1:{'a':[1,2]}, 'b':{2: (3,4)}}\n",
    "print(my_dict_yet_again)\n",
    "print(my_dict_yet_again[1])\n",
    "\n",
    "# Some dictionary functions\n",
    "print(1 in my_dict_yet_again) # check if a key is available in the dictionary\n",
    "print({'a':[1,2]} in my_dict_yet_again.values()) #check if the value is available in the dictionary\n",
    "\n",
    "my_dict_yet_again[True-1] = \"zero\"\n",
    "print(my_dict_yet_again)"
   ]
  },
  {
   "cell_type": "markdown",
   "metadata": {
    "ExecuteTime": {
     "end_time": "2019-02-17T18:49:07.515730Z",
     "start_time": "2019-02-17T18:49:07.512660Z"
    }
   },
   "source": [
    "### Create dictionary from two lists!\n",
    "\n",
    "We can use __zip__ to generate dictionaries where the keys and values can be obtained from lists at runtime."
   ]
  },
  {
   "cell_type": "code",
   "execution_count": 9,
   "metadata": {
    "ExecuteTime": {
     "end_time": "2019-02-20T06:47:37.029113Z",
     "start_time": "2019-02-20T06:47:37.019463Z"
    }
   },
   "outputs": [
    {
     "name": "stdout",
     "output_type": "stream",
     "text": [
      "[('a', 1), ('b', 2), ('c', 3)]\n",
      "{'a': 1, 'b': 2, 'c': 3}\n"
     ]
    }
   ],
   "source": [
    "keys = ['a', 'b', 'c']\n",
    "values = [1, 2, 3]\n",
    "\n",
    "print(list(zip(keys,values)))\n",
    "\n",
    "print(dict(zip(keys,values)))"
   ]
  },
  {
   "cell_type": "code",
   "execution_count": 10,
   "metadata": {},
   "outputs": [
    {
     "name": "stdout",
     "output_type": "stream",
     "text": [
      "[('a', 3), ('b', 2), ('a', 1)]\n",
      "{'a': 1, 'b': 2}\n"
     ]
    }
   ],
   "source": [
    "keys = ['a', 'b', 'a']\n",
    "values = [3, 2, 1]\n",
    "\n",
    "print(list(zip(keys,values)))\n",
    "\n",
    "print(dict(zip(keys,values)))"
   ]
  },
  {
   "cell_type": "code",
   "execution_count": 11,
   "metadata": {
    "ExecuteTime": {
     "end_time": "2019-02-20T07:01:52.817678Z",
     "start_time": "2019-02-20T07:01:52.794051Z"
    }
   },
   "outputs": [
    {
     "name": "stdout",
     "output_type": "stream",
     "text": [
      "{0: 'zero', 1: False, 'b': {2: (3, 4)}}\n",
      "False\n",
      "None\n",
      "True string is not available as key\n"
     ]
    }
   ],
   "source": [
    "my_dict_yet_again[True]=False\n",
    "print(my_dict_yet_again)\n",
    "\n",
    "print(my_dict_yet_again.get(1)) # get method\n",
    "print(my_dict_yet_again.get(2))\n",
    "print(my_dict_yet_again.get(\"True\",\"True string is not available as key\"))"
   ]
  },
  {
   "cell_type": "markdown",
   "metadata": {},
   "source": [
    "## Set and Frozenset\n",
    "\n",
    "Sets are Python object similar to lists or dictionaries. They are created using __curly braces__ or the __set function__. They are unordered, which means that they __can't be indexed__. They __cannot contain duplicate elements__. Due to the way they're stored, it's __faster to check whether an item is part of a set__, rather than part of a list.\n",
    "\n",
    "Instead of using __append__ to add an item to a set, we use __add__. The method __remove__ removes a specific element from a set but __pop__ removes an arbitrary element."
   ]
  },
  {
   "cell_type": "code",
   "execution_count": 12,
   "metadata": {
    "ExecuteTime": {
     "end_time": "2019-02-20T06:57:06.211974Z",
     "start_time": "2019-02-20T06:57:06.194993Z"
    }
   },
   "outputs": [
    {
     "name": "stdout",
     "output_type": "stream",
     "text": [
      "{'3.6', 2.7, 6}\n",
      "frozenset({'Python', '2.7'})\n",
      "{6}\n",
      "{1, 2, 3, 4, 5, 6, 7, 8, 9}\n",
      "{4, 5, 6}\n",
      "{1, 2, 3}\n",
      "{1, 2, 3, 7, 8, 9}\n"
     ]
    }
   ],
   "source": [
    "my_set = set((2.7,\"3.6\"))\n",
    "also_my_set = {2.7, 3.6}\n",
    "my_frozenset = frozenset((\"Python\",\"2.7\"))\n",
    "\n",
    "my_set.add(6)\n",
    "print(my_set)\n",
    "print(my_frozenset)\n",
    "\n",
    "my_set.remove(2.7)\n",
    "my_set.pop()\n",
    "print(my_set)\n",
    "\n",
    "# some additional operations\n",
    "first = {1, 2, 3, 4, 5, 6}\n",
    "second = {4, 5, 6, 7, 8, 9}\n",
    "\n",
    "print(first | second)\n",
    "print(first & second)\n",
    "print(first - second)\n",
    "print(first ^ second)"
   ]
  },
  {
   "cell_type": "markdown",
   "metadata": {},
   "source": [
    "### So, what are the operations that can be perfomed on mutable and immutable objects in Python?\n",
    "\n",
    "#### Both mutable and immutable\n",
    "\n",
    "| Operation | Result |\n",
    "|:---:|:---:|\n",
    "| len(s) | cardinality of set s |\n",
    "| x in s | test x for membership in s |\n",
    "| x not in s | test x for non-membership in s |\n",
    "| s.issubset(t)\t| test whether every element in s is in t |\n",
    "| s.issuperset(t) | test whether every element in t is in s |\n",
    "| s.union(t) | new set with elements from both s and t |\n",
    "| s.intersection(t) | new set with elements common to s and t |\n",
    "| s.difference(t) | new set with elements in s but not in t |\n",
    "| s.symmetric_difference(t)\t| new set with elements in either s or t but not both |\n",
    "| s.copy() | new set with a shallow copy of s |\n",
    "\n",
    "#### Only mutable\n",
    "\n",
    "| Operation | Result |\n",
    "|:---:|:---:|\n",
    "| s.update(t) | update set s, adding elements from t\n",
    "| s.intersection_update(t)\t| update set s, keeping only elements found in both s and t\n",
    "| s.difference_update(t) | update set s, removing elements found in t\n",
    "| s.symmetric_difference_update(t) | update set s, keeping only elements found in either s or t but not in both\n",
    "| s.add(x) | add element x to set s\n",
    "| s.remove(x) | remove x from set s; raises KeyError if not present\n",
    "| s.discard(x) | removes x from set s if present\n",
    "| s.pop() | remove and return an arbitrary element from s; raises KeyError if empty\n",
    "| s.clear() | remove all elements from set s\n",
    "\n",
    "### Also, when to use these data structures?\n",
    "\n",
    "When to use a __dictionary__:\n",
    "- When you need a logical association between a key:value pair.\n",
    "- When you need fast lookup for your data, based on a custom key.\n",
    "- When your data is being constantly modified.\n",
    "\n",
    "When to use the __other types__:\n",
    "- Use __lists__ if you have a collection of data that does not need random access. Try to choose lists when you need a simple, iterable collection that is modified frequently.\n",
    "- Use a __set__ if you need uniqueness for the elements.\n",
    "- Use __tuples__ when your data cannot change."
   ]
  },
  {
   "cell_type": "markdown",
   "metadata": {},
   "source": [
    "# Conditional statements, loops <a name=\"loops\"></a>\n",
    "\n",
    "## if, elif, else\n",
    "\n",
    "Python uses __if__ statements to run code if a certain condition holds _True_, otherwise they aren't.\n",
    "\n",
    "__NOTE__: Python uses __indentation__ (white space at the beginning of a line) to delimit blocks of code. Other languages, such as C, use curly braces to accomplish this, but in Python, indentation is mandatory; programs won't work without it.\n",
    "\n",
    "__To perform more complex checks__, _if_ statements can be __nested__, one inside the other. This means that the inner _if_ statement is the statement part of the outer one.\n",
    "\n",
    "An __else__ statement follows an _if_ statement, and contains code that is called when the _if_ statement evaluates to _False_.\n",
    "\n",
    "The __elif__ (short for else if) statement is a shortcut to use when __chaining if and else statements__. A series of _if elif_ statements can have a final else block, which is called if none of the _if_ or _elif_ expressions is _True_."
   ]
  },
  {
   "cell_type": "code",
   "execution_count": 13,
   "metadata": {
    "ExecuteTime": {
     "end_time": "2019-02-20T07:02:00.084857Z",
     "start_time": "2019-02-20T07:01:56.810846Z"
    }
   },
   "outputs": [
    {
     "name": "stdout",
     "output_type": "stream",
     "text": [
      "Enter a number from 0 to 9: 7\n",
      "`If you knew the magnificence of the three, six and nine, you would have a key to the universe.` ~ Tesla\n"
     ]
    }
   ],
   "source": [
    "num = int(input(\"Enter a number from 0 to 9: \"))\n",
    "\n",
    "if num == 3:\n",
    "    print(\"You got 3\")\n",
    "elif num == 6:\n",
    "    print(\"Number is 6\")\n",
    "elif num == 9:\n",
    "    print(\"Looks like 9\")\n",
    "else:\n",
    "    print(\"`If you knew the magnificence of the three, six and nine, you would have a key to the universe.` ~ Tesla\")"
   ]
  },
  {
   "cell_type": "markdown",
   "metadata": {},
   "source": [
    "## for\n",
    "\n",
    "The __for__ loop is commonly used to repeat some code a certain number of times on an object known as __iterator__. This is done by combining for loops with __range__ objects.\n",
    "\n",
    "The function range by default starts counting from 0 and goes up to the n-th value i.e. till (n-1). Its first parameter is the starting point, second one is the ending point (n-th value), and the optional third is the step value."
   ]
  },
  {
   "cell_type": "code",
   "execution_count": 14,
   "metadata": {
    "ExecuteTime": {
     "end_time": "2019-02-20T07:04:43.002702Z",
     "start_time": "2019-02-20T07:04:42.992617Z"
    }
   },
   "outputs": [
    {
     "name": "stdout",
     "output_type": "stream",
     "text": [
      "hello!\n",
      "hello!\n",
      "hello!\n",
      "world\n",
      "world\n",
      "-----------------\n",
      "2\n",
      "5\n",
      "8\n",
      "11\n"
     ]
    }
   ],
   "source": [
    "for i in range(5):\n",
    "    if i < 3:\n",
    "        print(\"hello!\")\n",
    "    else:\n",
    "        print(\"world\")\n",
    "        \n",
    "print(\"-----------------\")\n",
    "        \n",
    "for i in range(2,12,3):\n",
    "    print(i)"
   ]
  },
  {
   "cell_type": "code",
   "execution_count": 15,
   "metadata": {
    "ExecuteTime": {
     "end_time": "2019-02-20T07:05:58.399305Z",
     "start_time": "2019-02-20T07:05:58.387166Z"
    }
   },
   "outputs": [
    {
     "name": "stdout",
     "output_type": "stream",
     "text": [
      "1\n",
      "2\n",
      "3\n",
      "(4, 4.5, 5)\n",
      "6\n"
     ]
    }
   ],
   "source": [
    "# for loop through list\n",
    "lst = [1,2,3,(4,4.5,5),6]\n",
    "\n",
    "for i in lst:\n",
    "    print(i)"
   ]
  },
  {
   "cell_type": "code",
   "execution_count": 16,
   "metadata": {
    "ExecuteTime": {
     "end_time": "2019-02-20T07:08:16.548172Z",
     "start_time": "2019-02-20T07:08:16.538637Z"
    }
   },
   "outputs": [
    {
     "name": "stdout",
     "output_type": "stream",
     "text": [
      "{'a': 1, 'b': 2, 'c': 3}\n"
     ]
    }
   ],
   "source": [
    "# another way of creating dictionary\n",
    "\n",
    "keys = ['a', 'b', 'c']\n",
    "values = [1, 2, 3]\n",
    "\n",
    "my_new_dict = {}\n",
    "for (k,v) in zip(keys, values):\n",
    "    my_new_dict[k] = v\n",
    "    \n",
    "print(my_new_dict)"
   ]
  },
  {
   "cell_type": "markdown",
   "metadata": {},
   "source": [
    "### Two questions for you guys\n",
    "\n",
    "1. Ever wondered why people use _i_ in for loop?\n",
    "2. What is the difference between __range(x)__ and __list(range(x))__?"
   ]
  },
  {
   "cell_type": "code",
   "execution_count": 17,
   "metadata": {
    "ExecuteTime": {
     "end_time": "2019-02-20T07:10:39.984091Z",
     "start_time": "2019-02-20T07:10:39.878840Z"
    }
   },
   "outputs": [
    {
     "name": "stdout",
     "output_type": "stream",
     "text": [
      "[0, 1, 2, 3, 4]\n",
      "range(0, 5)\n"
     ]
    }
   ],
   "source": [
    "print(list(range(5)))\n",
    "print((range(5)))"
   ]
  },
  {
   "cell_type": "markdown",
   "metadata": {},
   "source": [
    "### Answer\n",
    "\n",
    "1. The i stands for the item to be accessed from any iterable or range object.\n",
    "\n",
    "2. When you execute _?range_, it will say that range returns an object that produces a sequence of integers from start (inclusive) to stop (exclusive) by step __without assigning indexes to the values__. Rather, it generates only one number at a time, relying on a __for__ loop to request for the next item in the range to be seen. However, __list(range()) does assign indices__ and hence allows you to see the full sequence of the numbers immediately, without the assistance of a _for_ loop."
   ]
  },
  {
   "cell_type": "markdown",
   "metadata": {},
   "source": [
    "## while\n",
    "\n",
    "An __if__ statement is __run once__ if its condition evaluates to _True_. A __while__ statement is similar, except that it can be __run more than once__. The statements inside it are repeatedly executed, as long as the condition holds _True_. Once it evaluates to False, the next section of code is executed.\n",
    "\n",
    "The __infinite loop__ is a special kind of while loop where the condition is always True and never stops iterating.\n",
    "\n",
    "To end a while loop prematurely, the __break__ statement can be used inside the loop.\n",
    "\n",
    "When a continue statement is encountered, the code flow jumps back to the top of the loop, rather than stopping it. Basically it __stops the current iteration__ and continues with the next one."
   ]
  },
  {
   "cell_type": "code",
   "execution_count": 18,
   "metadata": {
    "ExecuteTime": {
     "end_time": "2019-02-20T07:17:21.892088Z",
     "start_time": "2019-02-20T07:17:15.861931Z"
    }
   },
   "outputs": [
    {
     "name": "stdout",
     "output_type": "stream",
     "text": [
      "You attacked Mewtwo! CP left: 30\n",
      "Umbreon used Dark Pulse!\n",
      "\n",
      "Mewtwo CP left: 27\n",
      "Umbreon used Dark Pulse!\n",
      "\n",
      "Mewtwo CP left: 24\n",
      "Umbreon used Dark Pulse!\n",
      "\n",
      "Mewtwo CP left: 21\n",
      "Umbreon used Dark Pulse!\n",
      "\n",
      "Mewtwo CP left: 18\n",
      "Umbreon used Dark Pulse!\n",
      "\n",
      "He's halfway dead!\n",
      "Umbreon used Dark Pulse!\n",
      "\n",
      "Mewtwo CP left: 12\n",
      "Umbreon used Dark Pulse!\n",
      "\n",
      "Take him down!\n",
      "Umbreon used Dark Pulse!\n",
      "\n",
      "Mewtwo CP left: 6\n",
      "Umbreon used Dark Pulse!\n",
      "\n",
      "Now's your chance\n",
      "Umbreon used Dark Pulse!\n",
      "\n",
      "Dead!\n",
      "Congrats! Your Umbreon won.\n"
     ]
    }
   ],
   "source": [
    "import time\n",
    "\n",
    "mewtwo_cp = 30\n",
    "umbreon_dark_pulse = 3\n",
    "fight = True\n",
    "\n",
    "print(\"You attacked Mewtwo! CP left: {}\".format(mewtwo_cp))\n",
    "\n",
    "while fight:\n",
    "    print(\"Umbreon used Dark Pulse!\\n\")\n",
    "    mewtwo_cp = mewtwo_cp - umbreon_dark_pulse\n",
    "    \n",
    "    if mewtwo_cp == 15:\n",
    "        print(\"He's halfway dead!\") \n",
    "        continue\n",
    "    elif mewtwo_cp == 9: \n",
    "        print(\"Take him down!\")\n",
    "        continue\n",
    "    elif mewtwo_cp == 3:\n",
    "        print(\"Now's your chance\") \n",
    "        continue\n",
    "    \n",
    "    if mewtwo_cp <= 0:\n",
    "        print(\"Dead!\")\n",
    "        break\n",
    "    \n",
    "    print(\"Mewtwo CP left: {}\".format(mewtwo_cp))\n",
    "    time.sleep(1)\n",
    "    \n",
    "print(\"Congrats! Your Umbreon won.\")"
   ]
  },
  {
   "cell_type": "markdown",
   "metadata": {},
   "source": [
    "# File I/O <a name=\"io\"></a>\n",
    "\n",
    "Python can be used to __read__ and __write__ the contents of files. Text files are the easiest to manipulate.\n",
    "\n",
    "### open\n",
    "Before a file can be edited, it must be _opened_, using the __open__ function. The __argument__ of the open function is the _path to the file_. If the file is in the current working directory of the program, you can specify only its name.\n",
    "\n",
    "### mode\n",
    "There are __mode__ used to open a file by applying a _second argument_ to the open function.\n",
    "* \"r\" means open in __read__ mode, which is the default.\n",
    "* \"w\" means __write__ mode, for rewriting the contents of a file.\n",
    "* \"a\" means __append__ mode, for adding new content to the end of the file.\n",
    "* \"b\" means __binary__ mode, which is used for non-text files (such as image and sound files).\n",
    "\n",
    "### read\n",
    "The contents of a file that has been opened in text mode can be read using the __read__ method. To __read only a certain amount of a file, you can provide a number as an argument__ to the read function. This determines the __number of bytes__ that should be read.\n",
    "\n",
    "After all contents in a file have been read, any attempts to read further from that file will return an _empty string_, because you are trying to read __from the end of the file__. \n",
    "\n",
    "To retrieve __each line__ in a file, you can use the __readlines__ method to _return a list in which each element is a line in the file_.\n",
    "\n",
    "__NOTE__: There is a __readline__ and a __readlines__ method. _readline()_ reads one line character at a time, _readlines()_ reads in the whole file at once and splits it by line.\n",
    "\n",
    "### write\n",
    "To write to files we use the __write__ method, which writes a string to the file. The \"w\" mode will _create a file, if it does not already exist_. When a file is opened in write mode, the file's __existing content is deleted__. The write method __returns the number of bytes__ written to a file, if successful.\n",
    "\n",
    "__NOTE__: If you need to write anything other than string on a file, it has to be converted to a string first.\n",
    "\n",
    "### close\n",
    "Once a file has been opened and used, it should be closed which is done with the __close__ method of the file object.\n",
    "\n",
    "### Alternative approach of file access\n",
    "An alternative way of doing it is using __with__ statements. This creates a temporary variable (often called __f__), which is only accessible in the indented block of the with statement. The file is __automatically closed__ at the end of the with statement, even if exceptions occur within it."
   ]
  },
  {
   "cell_type": "code",
   "execution_count": 19,
   "metadata": {
    "ExecuteTime": {
     "end_time": "2019-02-20T07:30:50.498288Z",
     "start_time": "2019-02-20T07:30:50.455639Z"
    },
    "scrolled": false
   },
   "outputs": [
    {
     "name": "stdout",
     "output_type": "stream",
     "text": [
      "------- Reading the content -------\n",
      "\n",
      "What is Neural Network?\n",
      "A neural network is a processing unit that is capable to store knowledge and apply it to make predictions. A neural network mimics the brain in a way where the network acquires knowledge from its environment through a learning process. Then, intervention connection strengths known as synaptic weights are used to store the acquired knowledge. In the learning process, the synaptic weights of the network are modified in such a way so as to attain the desired objective.\n",
      "\n",
      "A neural network architecture comprises of 3 types of layers:\n",
      "\n",
      "Input Layer: The first layer in the network which receives input (training observations) and passed to the next hidden layer(s)\n",
      "Hidden Layer: The intermediate processing layer(s) which perform specific tasks on the incoming data and pass on the output generated by them to the next output layer\n",
      "Output Layer: The final layer of the network which generates the desired output\n",
      "Each of these layers are composed of Perceptrons which is analogous to the neuron of the our nervous system.\n",
      "\n",
      "------- Re-reading -------\n",
      "\n",
      "------- Finished! --------\n",
      "\n",
      "------- Closing the file -------\n"
     ]
    }
   ],
   "source": [
    "file = open(\"def_NN.txt\", \"r\")\n",
    "print(\"------- Reading the content -------\\n\")\n",
    "file_content = file.read()\n",
    "\n",
    "print(file_content)\n",
    "print(\"------- Re-reading -------\")\n",
    "print(file.read())\n",
    "print(\"------- Finished! --------\\n\")\n",
    "print(\"------- Closing the file -------\")\n",
    "file.close()\n",
    "\n",
    "# try readlines"
   ]
  },
  {
   "cell_type": "code",
   "execution_count": 20,
   "metadata": {
    "ExecuteTime": {
     "end_time": "2019-02-20T07:32:36.604060Z",
     "start_time": "2019-02-20T07:32:36.529744Z"
    }
   },
   "outputs": [
    {
     "name": "stdout",
     "output_type": "stream",
     "text": [
      "------- Reading initial contents ------- \n",
      "\n",
      "You see, in their last moment, people show you who they really are!\n",
      "------- Finished ------- \n",
      "\n",
      "Amount of text written: 64\n",
      "\n",
      "------- Reading new contents ------- \n",
      "\n",
      "I believe whatever doesn't kill you simply makes you...stranger.\n",
      "\n",
      " ------- Finished -------\n"
     ]
    }
   ],
   "source": [
    "file = open(\"joker.txt\", \"r\")\n",
    "print(\"------- Reading initial contents ------- \\n\")\n",
    "print(file.read())\n",
    "print(\"------- Finished ------- \\n\")\n",
    "file.close()\n",
    "\n",
    "file = open(\"joker.txt\", \"w\")\n",
    "amount_written = file.write(\"I believe whatever doesn't kill you simply makes you...stranger.\")\n",
    "print(\"Amount of text written: {}\\n\".format(amount_written))\n",
    "file.close()\n",
    "\n",
    "file = open(\"joker.txt\", \"r\")\n",
    "print(\"------- Reading new contents ------- \\n\")\n",
    "print(file.read())\n",
    "print(\"\\n ------- Finished -------\")\n",
    "file.close()"
   ]
  },
  {
   "cell_type": "code",
   "execution_count": 21,
   "metadata": {
    "ExecuteTime": {
     "end_time": "2019-02-20T07:33:27.552007Z",
     "start_time": "2019-02-20T07:33:27.545605Z"
    }
   },
   "outputs": [
    {
     "name": "stdout",
     "output_type": "stream",
     "text": [
      "What is Neural Network?\n",
      "A neural network is a processing unit that is capable to store knowledge and apply it to make predictions. A neural network mimics the brain in a way where the network acquires knowledge from its environment through a learning process. Then, intervention connection strengths known as synaptic weights are used to store the acquired knowledge. In the learning process, the synaptic weights of the network are modified in such a way so as to attain the desired objective.\n",
      "\n",
      "A neural network architecture comprises of 3 types of layers:\n",
      "\n",
      "Input Layer: The first layer in the network which receives input (training observations) and passed to the next hidden layer(s)\n",
      "Hidden Layer: The intermediate processing layer(s) which perform specific tasks on the incoming data and pass on the output generated by them to the next output layer\n",
      "Output Layer: The final layer of the network which generates the desired output\n",
      "Each of these layers are composed of Perceptrons which is analogous to the neuron of the our nervous system.\n",
      "\n"
     ]
    }
   ],
   "source": [
    "# alternative approach\n",
    "with open(\"def_NN.txt\") as f:\n",
    "    print(f.read())"
   ]
  },
  {
   "cell_type": "markdown",
   "metadata": {},
   "source": [
    "# Exception Handling <a name=\"handling\"></a>\n",
    "\n",
    "## Exception\n",
    "\n",
    "__Exception__ occur when something goes wrong due to incorrect code syntax or logic or input. When an exception occurs, the program immediately stops and doesn't executes any lines further.\n",
    "\n",
    "_Different exceptions are raised for different reasons._ Some common exceptions are listed below:\n",
    "* __ImportError__: an import fails\n",
    "* __IndexError__: a list is indexed with an out-of-range number\n",
    "* __NameError__: an unknown variable is used\n",
    "* __SyntaxError__: the code can't be parsed or processed properly\n",
    "* __TypeError__: a function is called on a value of an inappropriate type\n",
    "* __ValueError__: a function is called on a value of the correct type, but with an inappropriate value\n",
    "\n",
    "Third-party libraries and modules define their own exceptions. Learn more about built-in exceptions [here](https://docs.python.org/3.7/library/exceptions.html)\n",
    "\n",
    "Here are some examples of different built-in exceptions."
   ]
  },
  {
   "cell_type": "markdown",
   "metadata": {},
   "source": [
    "```\n",
    ">>> list=[1,2,3] \n",
    ">>> print(list[3])\n",
    "Traceback (most recent call last): File \"<stdin>\", line 1, in <module> \n",
    "IndexError: list index out of range \n",
    "\n",
    ">>> printf(a)\n",
    "File \"<stdin>\", line 1 \n",
    "printf a \n",
    "    ^ \n",
    "SyntaxError: invalid syntax\n",
    "\n",
    ">>> print(a)\n",
    "Traceback (most recent call last): File \"<stdin>\", line 1, in <module> \n",
    "NameError: name 'a' is not defined \n",
    "\n",
    ">>> import tk \n",
    "Traceback (most recent call last): File \"<stdin>\", line 1, in <module> \n",
    "ImportError: No module named tk \n",
    "\n",
    ">>> a=2+\"hello\"\n",
    "Traceback (most recent call last): File \"<stdin>\", line 1, in <module> \n",
    "TypeError: unsupported operand type(s) for +: 'int' and 'str' \n",
    "\n",
    ">>> list.remove(0) \n",
    "Traceback (most recent call last): File \"<stdin>\", line 1, in <module> \n",
    "ValueError: list.remove(x): x not in list\n",
    "```"
   ]
  },
  {
   "cell_type": "markdown",
   "metadata": {},
   "source": [
    "## Exception Handling\n",
    "\n",
    "To handle exceptions and call code when an exception occurs, we have to use a __try/except__ statement. \n",
    "\n",
    "### try-except\n",
    "\n",
    "The __try__ block contains code that might throw an exception. If that exception occurs, the code in the try block stops executing, and the code in the __except__ block is run. If no error occurs, the code in the except block doesn't run.\n",
    "\n",
    "A try statement can have multiple different except blocks to handle different exceptions. _Multiple exceptions can also be put into a single except block using __parentheses__,_ to have the except block handle all of them.\n",
    "\n",
    "An except statement without any exception specified will catch all errors. __However, this kind of coding should be avoided.__ If you do this, you are going against the zen of Python.\n",
    "\n",
    "Exception handling is particularly useful when\n",
    "* dealing with user input\n",
    "* sending stuff over network or saving large amounts of data, since issues happening with hardware like losing power or signal problems can happen"
   ]
  },
  {
   "cell_type": "code",
   "execution_count": 22,
   "metadata": {
    "ExecuteTime": {
     "end_time": "2019-01-31T07:17:35.199425Z",
     "start_time": "2019-01-31T07:17:35.192701Z"
    }
   },
   "outputs": [
    {
     "name": "stdout",
     "output_type": "stream",
     "text": [
      "ERROR!\n"
     ]
    }
   ],
   "source": [
    "try:\n",
    "    variable = 10\n",
    "    print(variable + \"hello\")\n",
    "    num1 = 7\n",
    "    num2 = 0\n",
    "    print(num1 / num2)\n",
    "    print(\"Done calculation\")\n",
    "except ZeroDivisionError:\n",
    "    print(\"An error occurred due to zero division\")\n",
    "except (ValueError, TypeError):\n",
    "    print(\"ERROR!\")"
   ]
  },
  {
   "cell_type": "markdown",
   "metadata": {
    "ExecuteTime": {
     "end_time": "2018-11-08T07:02:27.162117Z",
     "start_time": "2018-11-08T07:02:27.157110Z"
    }
   },
   "source": [
    "__If we do not know what possible exceptions will arise, what do we do?__ [Answer](#ans2)\n",
    "\n",
    "### raise\n",
    "We can use __raise__ to throw an exception __if a condition occurs__. The statement can be complemented with a custom exception."
   ]
  },
  {
   "cell_type": "code",
   "execution_count": 23,
   "metadata": {
    "ExecuteTime": {
     "end_time": "2019-01-31T07:19:34.377619Z",
     "start_time": "2019-01-31T07:19:34.240028Z"
    }
   },
   "outputs": [
    {
     "ename": "Exception",
     "evalue": "x should not exceed 5. The value of x was: 12",
     "output_type": "error",
     "traceback": [
      "\u001b[0;31m---------------------------------------------------------------------------\u001b[0m",
      "\u001b[0;31mException\u001b[0m                                 Traceback (most recent call last)",
      "\u001b[0;32m<ipython-input-23-b2de8492a496>\u001b[0m in \u001b[0;36m<module>\u001b[0;34m\u001b[0m\n\u001b[1;32m      1\u001b[0m \u001b[0mx\u001b[0m \u001b[0;34m=\u001b[0m \u001b[0;36m12\u001b[0m\u001b[0;34m\u001b[0m\u001b[0;34m\u001b[0m\u001b[0m\n\u001b[1;32m      2\u001b[0m \u001b[0;32mif\u001b[0m \u001b[0mx\u001b[0m \u001b[0;34m>\u001b[0m \u001b[0;36m5\u001b[0m\u001b[0;34m:\u001b[0m\u001b[0;34m\u001b[0m\u001b[0;34m\u001b[0m\u001b[0m\n\u001b[0;32m----> 3\u001b[0;31m     \u001b[0;32mraise\u001b[0m \u001b[0mException\u001b[0m\u001b[0;34m(\u001b[0m\u001b[0;34m'x should not exceed 5. The value of x was: {}'\u001b[0m\u001b[0;34m.\u001b[0m\u001b[0mformat\u001b[0m\u001b[0;34m(\u001b[0m\u001b[0mx\u001b[0m\u001b[0;34m)\u001b[0m\u001b[0;34m)\u001b[0m\u001b[0;34m\u001b[0m\u001b[0;34m\u001b[0m\u001b[0m\n\u001b[0m",
      "\u001b[0;31mException\u001b[0m: x should not exceed 5. The value of x was: 12"
     ]
    }
   ],
   "source": [
    "x = 12\n",
    "if x > 5:\n",
    "    raise Exception('x should not exceed 5. The value of x was: {}'.format(x))"
   ]
  },
  {
   "cell_type": "markdown",
   "metadata": {},
   "source": [
    "### else and finally\n",
    "\n",
    "Here using the else statement, you can instruct a program to execute a certain block of code __only in the absence of exceptions__.\n",
    "\n",
    "To ensure some code runs no matter what errors occur, you can use a __finally__ statement. The finally statement is placed at the bottom of a try/except statement and else statement, if any.\n",
    "\n",
    "![try_except_else_finally](Photos/try_except_else_finally.png)"
   ]
  },
  {
   "cell_type": "code",
   "execution_count": 24,
   "metadata": {
    "ExecuteTime": {
     "end_time": "2019-02-05T10:25:53.131636Z",
     "start_time": "2019-02-05T10:25:53.125478Z"
    }
   },
   "outputs": [
    {
     "name": "stdout",
     "output_type": "stream",
     "text": [
      "0.4\n",
      "I believe whatever doesn't kill you simply makes you...stranger.\n",
      "Getting printed irrespective of any exceptions.\n"
     ]
    }
   ],
   "source": [
    "try:\n",
    "    num_1 = 2\n",
    "    num_2 = 5\n",
    "    print(num_1/num_2)\n",
    "except ZeroDivisionError as error:\n",
    "    print(error)\n",
    "else:\n",
    "    try:\n",
    "        with open('joker.txt') as file:\n",
    "            read_data = file.readline()\n",
    "            print(read_data)\n",
    "    except FileNotFoundError as fnf_error:\n",
    "        print(fnf_error)\n",
    "finally:\n",
    "    print('Getting printed irrespective of any exceptions.')"
   ]
  },
  {
   "cell_type": "code",
   "execution_count": 25,
   "metadata": {
    "ExecuteTime": {
     "end_time": "2019-01-31T07:25:49.054863Z",
     "start_time": "2019-01-31T07:25:49.036647Z"
    }
   },
   "outputs": [
    {
     "name": "stdout",
     "output_type": "stream",
     "text": [
      "1\n",
      "This is executed last!\n"
     ]
    },
    {
     "ename": "NameError",
     "evalue": "name 'error' is not defined",
     "output_type": "error",
     "traceback": [
      "\u001b[0;31m---------------------------------------------------------------------------\u001b[0m",
      "\u001b[0;31mZeroDivisionError\u001b[0m                         Traceback (most recent call last)",
      "\u001b[0;32m<ipython-input-25-b26411555290>\u001b[0m in \u001b[0;36m<module>\u001b[0;34m\u001b[0m\n\u001b[1;32m      2\u001b[0m     \u001b[0mprint\u001b[0m\u001b[0;34m(\u001b[0m\u001b[0;36m1\u001b[0m\u001b[0;34m)\u001b[0m\u001b[0;34m\u001b[0m\u001b[0;34m\u001b[0m\u001b[0m\n\u001b[0;32m----> 3\u001b[0;31m     \u001b[0mprint\u001b[0m\u001b[0;34m(\u001b[0m\u001b[0;36m10\u001b[0m \u001b[0;34m/\u001b[0m \u001b[0;36m0\u001b[0m\u001b[0;34m)\u001b[0m\u001b[0;34m\u001b[0m\u001b[0;34m\u001b[0m\u001b[0m\n\u001b[0m\u001b[1;32m      4\u001b[0m \u001b[0;32mexcept\u001b[0m \u001b[0mZeroDivisionError\u001b[0m\u001b[0;34m:\u001b[0m\u001b[0;34m\u001b[0m\u001b[0;34m\u001b[0m\u001b[0m\n",
      "\u001b[0;31mZeroDivisionError\u001b[0m: division by zero",
      "\nDuring handling of the above exception, another exception occurred:\n",
      "\u001b[0;31mNameError\u001b[0m                                 Traceback (most recent call last)",
      "\u001b[0;32m<ipython-input-25-b26411555290>\u001b[0m in \u001b[0;36m<module>\u001b[0;34m\u001b[0m\n\u001b[1;32m      3\u001b[0m     \u001b[0mprint\u001b[0m\u001b[0;34m(\u001b[0m\u001b[0;36m10\u001b[0m \u001b[0;34m/\u001b[0m \u001b[0;36m0\u001b[0m\u001b[0;34m)\u001b[0m\u001b[0;34m\u001b[0m\u001b[0;34m\u001b[0m\u001b[0m\n\u001b[1;32m      4\u001b[0m \u001b[0;32mexcept\u001b[0m \u001b[0mZeroDivisionError\u001b[0m\u001b[0;34m:\u001b[0m\u001b[0;34m\u001b[0m\u001b[0;34m\u001b[0m\u001b[0m\n\u001b[0;32m----> 5\u001b[0;31m     \u001b[0mprint\u001b[0m\u001b[0;34m(\u001b[0m\u001b[0merror\u001b[0m\u001b[0;34m)\u001b[0m\u001b[0;34m\u001b[0m\u001b[0;34m\u001b[0m\u001b[0m\n\u001b[0m\u001b[1;32m      6\u001b[0m \u001b[0;32mfinally\u001b[0m\u001b[0;34m:\u001b[0m\u001b[0;34m\u001b[0m\u001b[0;34m\u001b[0m\u001b[0m\n\u001b[1;32m      7\u001b[0m     \u001b[0mprint\u001b[0m\u001b[0;34m(\u001b[0m\u001b[0;34m\"This is executed last!\"\u001b[0m\u001b[0;34m)\u001b[0m\u001b[0;34m\u001b[0m\u001b[0;34m\u001b[0m\u001b[0m\n",
      "\u001b[0;31mNameError\u001b[0m: name 'error' is not defined"
     ]
    }
   ],
   "source": [
    "try:\n",
    "    print(1)\n",
    "    print(10 / 0)\n",
    "except ZeroDivisionError:\n",
    "    print(error)\n",
    "finally:\n",
    "    print(\"This is executed last!\")"
   ]
  },
  {
   "cell_type": "markdown",
   "metadata": {},
   "source": [
    "__Why the exceptions messages are printed at the end of the output, not between \"1\" and \"This is executed last\"?__\n",
    "\n",
    "While catching the error for _print(10 / 0)_ the system found another exception in the __except__ block, the undeclared variable _error_ raising __NameError__ exception. So nothing was printed. This inner _NameError_ exception was uncaught by program and can only printed after finally block."
   ]
  },
  {
   "cell_type": "markdown",
   "metadata": {},
   "source": [
    "### Assesrtion\n",
    "\n",
    "An __assertion is a sanity-check__ where an expression is tested, and if the result comes up false, an exception is raised. When it encounters an assert statement, Python evaluates the accompanying expression, which is expected to be true. If the expression is false, Python raises an __AssertionError__ exception.\n",
    "\n",
    "AssertionError exceptions can be caught and handled like any other exception using the try-except statement, but if not handled, this type of exception will terminate the program.\n",
    "\n",
    "__But what makes assertion different from try/except?__ [Answer](#ans3)"
   ]
  },
  {
   "cell_type": "code",
   "execution_count": 26,
   "metadata": {
    "ExecuteTime": {
     "end_time": "2019-01-31T07:34:39.602131Z",
     "start_time": "2019-01-31T07:34:39.585144Z"
    }
   },
   "outputs": [
    {
     "name": "stdout",
     "output_type": "stream",
     "text": [
      "32.0\n"
     ]
    },
    {
     "ename": "AssertionError",
     "evalue": "Colder than absolute zero? Go back to school. -_-",
     "output_type": "error",
     "traceback": [
      "\u001b[0;31m---------------------------------------------------------------------------\u001b[0m",
      "\u001b[0;31mAssertionError\u001b[0m                            Traceback (most recent call last)",
      "\u001b[0;32m<ipython-input-26-832b1596a334>\u001b[0m in \u001b[0;36m<module>\u001b[0;34m\u001b[0m\n\u001b[1;32m      4\u001b[0m \u001b[0;34m\u001b[0m\u001b[0m\n\u001b[1;32m      5\u001b[0m \u001b[0mprint\u001b[0m\u001b[0;34m(\u001b[0m\u001b[0mKelvinToFahrenheit\u001b[0m\u001b[0;34m(\u001b[0m\u001b[0;36m273\u001b[0m\u001b[0;34m)\u001b[0m\u001b[0;34m)\u001b[0m\u001b[0;34m\u001b[0m\u001b[0;34m\u001b[0m\u001b[0m\n\u001b[0;32m----> 6\u001b[0;31m \u001b[0mprint\u001b[0m\u001b[0;34m(\u001b[0m\u001b[0mKelvinToFahrenheit\u001b[0m\u001b[0;34m(\u001b[0m\u001b[0;34m-\u001b[0m\u001b[0;36m5\u001b[0m\u001b[0;34m)\u001b[0m\u001b[0;34m)\u001b[0m\u001b[0;34m\u001b[0m\u001b[0;34m\u001b[0m\u001b[0m\n\u001b[0m\u001b[1;32m      7\u001b[0m \u001b[0mprint\u001b[0m\u001b[0;34m(\u001b[0m\u001b[0mKelvinToFahrenheit\u001b[0m\u001b[0;34m(\u001b[0m\u001b[0;36m373\u001b[0m\u001b[0;34m)\u001b[0m\u001b[0;34m)\u001b[0m\u001b[0;34m\u001b[0m\u001b[0;34m\u001b[0m\u001b[0m\n",
      "\u001b[0;32m<ipython-input-26-832b1596a334>\u001b[0m in \u001b[0;36mKelvinToFahrenheit\u001b[0;34m(temp)\u001b[0m\n\u001b[1;32m      1\u001b[0m \u001b[0;32mdef\u001b[0m \u001b[0mKelvinToFahrenheit\u001b[0m\u001b[0;34m(\u001b[0m\u001b[0mtemp\u001b[0m\u001b[0;34m)\u001b[0m\u001b[0;34m:\u001b[0m\u001b[0;34m\u001b[0m\u001b[0;34m\u001b[0m\u001b[0m\n\u001b[0;32m----> 2\u001b[0;31m     \u001b[0;32massert\u001b[0m \u001b[0;34m(\u001b[0m\u001b[0mtemp\u001b[0m \u001b[0;34m>=\u001b[0m \u001b[0;36m0\u001b[0m\u001b[0;34m)\u001b[0m\u001b[0;34m,\u001b[0m\u001b[0;34m\"Colder than absolute zero? Go back to school. -_-\"\u001b[0m\u001b[0;34m\u001b[0m\u001b[0;34m\u001b[0m\u001b[0m\n\u001b[0m\u001b[1;32m      3\u001b[0m     \u001b[0;32mreturn\u001b[0m \u001b[0;34m(\u001b[0m\u001b[0;34m(\u001b[0m\u001b[0mtemp\u001b[0m \u001b[0;34m-\u001b[0m \u001b[0;36m273\u001b[0m\u001b[0;34m)\u001b[0m\u001b[0;34m*\u001b[0m\u001b[0;36m1.8\u001b[0m\u001b[0;34m)\u001b[0m \u001b[0;34m+\u001b[0m \u001b[0;36m32\u001b[0m\u001b[0;34m\u001b[0m\u001b[0;34m\u001b[0m\u001b[0m\n\u001b[1;32m      4\u001b[0m \u001b[0;34m\u001b[0m\u001b[0m\n\u001b[1;32m      5\u001b[0m \u001b[0mprint\u001b[0m\u001b[0;34m(\u001b[0m\u001b[0mKelvinToFahrenheit\u001b[0m\u001b[0;34m(\u001b[0m\u001b[0;36m273\u001b[0m\u001b[0;34m)\u001b[0m\u001b[0;34m)\u001b[0m\u001b[0;34m\u001b[0m\u001b[0;34m\u001b[0m\u001b[0m\n",
      "\u001b[0;31mAssertionError\u001b[0m: Colder than absolute zero? Go back to school. -_-"
     ]
    }
   ],
   "source": [
    "def KelvinToFahrenheit(temp):\n",
    "    assert (temp >= 0),\"Colder than absolute zero? Go back to school. -_-\"\n",
    "    return ((temp - 273)*1.8) + 32\n",
    "\n",
    "print(KelvinToFahrenheit(273))\n",
    "print(KelvinToFahrenheit(-5))\n",
    "print(KelvinToFahrenheit(373))"
   ]
  },
  {
   "cell_type": "markdown",
   "metadata": {},
   "source": [
    "# Answers <a name=\"answer\"></a>"
   ]
  },
  {
   "cell_type": "markdown",
   "metadata": {},
   "source": [
    "### Q1 <a name=\"ans1\"></a>\n",
    "\n",
    "__Copy the variable to a new variable and then change the new variable.__ Let us discuss it with an example."
   ]
  },
  {
   "cell_type": "code",
   "execution_count": 27,
   "metadata": {
    "ExecuteTime": {
     "end_time": "2018-12-17T06:56:05.450028Z",
     "start_time": "2018-12-17T06:56:05.442676Z"
    }
   },
   "outputs": [
    {
     "name": "stdout",
     "output_type": "stream",
     "text": [
      "var_1: 9\n",
      "var_2: 6\n",
      "lst_1: [1, 2, 3, 4]\n",
      "lst_2: [1, 2, 3, 4]\n"
     ]
    }
   ],
   "source": [
    "var_1 = 6\n",
    "var_2 = var_1\n",
    "var_1 = 9\n",
    "\n",
    "print(\"var_1: {}\".format(var_1))\n",
    "print(\"var_2: {}\".format(var_2))\n",
    "\n",
    "lst_1 = [1,2,3]\n",
    "lst_2 = lst_1\n",
    "lst_1.append(4)\n",
    "\n",
    "print(\"lst_1: {}\".format(lst_1))\n",
    "print(\"lst_2: {}\".format(lst_2))"
   ]
  },
  {
   "cell_type": "markdown",
   "metadata": {},
   "source": [
    "__Conclusion:__ Integers are immutable since a change in var_1 was not reflected in var_2 but in case of list, there was a change making them mutable.\n",
    "\n",
    "This is happening because when you create a list and assign it to a variable (__lst_1__), you have to think of this variable as __POINTING to the list rather than being EQUAL to it__. Whenever you assign another variable (__lst_2__) to the one you already have assigned the list, __both variables point to the SAME list object__. _Any list modifications will affect ALL variables pointing to it_."
   ]
  },
  {
   "cell_type": "markdown",
   "metadata": {},
   "source": [
    "## Q2 <a name=\"ans2\"></a>\n",
    "\n",
    "Catch each exception which must write the full stack trace to a log or file, along with a timestamp using __logging__ module. Each logger object has a method called exception, taking a message string. If you call it in the except block, the caught exception will automatically be fully logged, including the trace."
   ]
  },
  {
   "cell_type": "code",
   "execution_count": 28,
   "metadata": {
    "ExecuteTime": {
     "end_time": "2018-11-22T07:55:59.071036Z",
     "start_time": "2018-11-22T07:55:59.058007Z"
    }
   },
   "outputs": [
    {
     "name": "stderr",
     "output_type": "stream",
     "text": [
      "ERROR:root:Error!\n",
      "Traceback (most recent call last):\n",
      "  File \"<ipython-input-28-f77cb23c4c07>\", line 7, in <module>\n",
      "    x = get_number()\n",
      "  File \"<ipython-input-28-f77cb23c4c07>\", line 4, in get_number\n",
      "    return int('foo')\n",
      "ValueError: invalid literal for int() with base 10: 'foo'\n"
     ]
    }
   ],
   "source": [
    "import logging\n",
    "\n",
    "def get_number():\n",
    "    return int('foo')\n",
    "\n",
    "try:\n",
    "    x = get_number()\n",
    "    print(\"foo\")\n",
    "except Exception as ex:\n",
    "    logging.exception('Error!')"
   ]
  },
  {
   "cell_type": "markdown",
   "metadata": {},
   "source": [
    "## Q3 <a name=\"ans3\"></a>\n",
    "\n",
    "An assertion would stop the program from running (because you should fix that error or the program is useless), but an exception would let the program continue running (if you use else or finally). In other words, __exceptions address the robustness of your application__ while __assertions address its correctness__. \n",
    "\n",
    "Assertions should be used to check something that __should never happen__ while an exception should be used to check something that __might happen__ (something in which you don't have control like user input). \n",
    "\n",
    "__NOTE__: The rule is that use __assertions__ when you are trying to __catch your own errors__ (functions or data that are internal to your system), and __exceptions__ when trying to __catch other people's errors__.\n",
    "\n",
    "Use assertions\n",
    "* when checking pre-conditions, post-conditions in code\n",
    "* to provide feedback to yourself or your developer team, making it a great feature for debugging purpose\n",
    "* when checking for things that are very unlikely to happen otherwise it means that there is a serious ﬂaw in your application\n",
    "* to state things that you (supposedly) know to be true."
   ]
  }
 ],
 "metadata": {
  "kernelspec": {
   "display_name": "Python 3",
   "language": "python",
   "name": "python3"
  },
  "language_info": {
   "codemirror_mode": {
    "name": "ipython",
    "version": 3
   },
   "file_extension": ".py",
   "mimetype": "text/x-python",
   "name": "python",
   "nbconvert_exporter": "python",
   "pygments_lexer": "ipython3",
   "version": "3.6.7"
  }
 },
 "nbformat": 4,
 "nbformat_minor": 2
}
